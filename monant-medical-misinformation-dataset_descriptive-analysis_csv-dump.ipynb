{
 "cells": [
  {
   "cell_type": "markdown",
   "metadata": {},
   "source": [
    "# Descriptive analysis of Monant Medical Misinformation Dataset (CSV dump)"
   ]
  },
  {
   "cell_type": "markdown",
   "metadata": {},
   "source": [
    "## Initialization"
   ]
  },
  {
   "cell_type": "markdown",
   "metadata": {},
   "source": [
    "Import of necessary libraries"
   ]
  },
  {
   "cell_type": "code",
   "execution_count": 1,
   "metadata": {},
   "outputs": [],
   "source": [
    "%matplotlib inline\n",
    "\n",
    "import re\n",
    "import json\n",
    "import pandas as pd\n",
    "import numpy as np\n",
    "import matplotlib\n",
    "import matplotlib.pyplot as plt"
   ]
  },
  {
   "cell_type": "markdown",
   "metadata": {},
   "source": [
    "## Helper functions"
   ]
  },
  {
   "cell_type": "markdown",
   "metadata": {},
   "source": [
    "### Get data"
   ]
  },
  {
   "cell_type": "code",
   "execution_count": 2,
   "metadata": {},
   "outputs": [],
   "source": [
    "def get_entity_df(entity, columns_to_skip = []):\n",
    "    entity_key = entity_to_entity_key(entity)\n",
    "    df = pd.read_csv('full_data/' + entity_key + '.csv', sep=',', usecols=lambda x: x not in columns_to_skip)\n",
    "    return df"
   ]
  },
  {
   "cell_type": "code",
   "execution_count": 3,
   "metadata": {},
   "outputs": [],
   "source": [
    "def entity_to_entity_key(entity):\n",
    "    entity_key = re.sub('-', '_', entity)\n",
    "    return entity_key"
   ]
  },
  {
   "cell_type": "markdown",
   "metadata": {},
   "source": [
    "## Data preprocessing"
   ]
  },
  {
   "cell_type": "code",
   "execution_count": 4,
   "metadata": {},
   "outputs": [],
   "source": [
    "df = {}\n",
    "df['articles'] = get_entity_df('articles', ['body', 'raw_body', 'perex', 'other_info', 'url']).set_index('id')\n",
    "df['fact-checking-articles'] = get_entity_df('fact-checking-articles').set_index('id')\n",
    "df['claims'] = get_entity_df('claims').set_index('id')\n",
    "df['discussion-posts'] = get_entity_df('discussion-posts', ['title', 'body', 'body_raw', 'url']).set_index('id')"
   ]
  },
  {
   "cell_type": "code",
   "execution_count": 5,
   "metadata": {},
   "outputs": [],
   "source": [
    "df['entity-annotations'] = get_entity_df('entity-annotations').set_index('id')\n",
    "\n",
    "df['relation-annotations'] = get_entity_df('relation-annotations')\n",
    "df['relation-annotations'].value = df['relation-annotations'].value.fillna('{}')\n",
    "df['relation-annotations'] = df['relation-annotations'].join(df['relation-annotations']['value'].apply(json.loads).apply(pd.Series), how='left', rsuffix='_annotation_value')\n",
    "df['relation-annotations'] = df['relation-annotations'].set_index('id')"
   ]
  },
  {
   "cell_type": "code",
   "execution_count": 6,
   "metadata": {},
   "outputs": [],
   "source": [
    "df['sources'] = get_entity_df('sources')\n",
    "df_tmp = df['entity-annotations'][df['entity-annotations'].annotation_type_id == 1]\n",
    "df['sources'] = df['sources'].merge(df_tmp, how='left', left_on='id', right_on='entity_id', suffixes=('_source', '_entity_annotation'))\n",
    "\n",
    "df['sources'].value = df['sources'].value.fillna('{}')\n",
    "df['sources'] = df['sources'].join(df['sources']['value'].apply(json.loads).apply(pd.Series), how='left', rsuffix='_reliability_rating')\n",
    "df['sources'].value_reliability_rating = df['sources'].value_reliability_rating.fillna('unknown')\n",
    "df['sources'] = df['sources'].set_index('id')"
   ]
  },
  {
   "cell_type": "markdown",
   "metadata": {},
   "source": [
    "# Descriptive Analysis of Raw Data"
   ]
  },
  {
   "cell_type": "markdown",
   "metadata": {},
   "source": [
    "In the following descriptive analysis, we focus medical English data, which are contained in the provided dataset."
   ]
  },
  {
   "cell_type": "markdown",
   "metadata": {},
   "source": [
    "Dataset contains in total:"
   ]
  },
  {
   "cell_type": "code",
   "execution_count": 7,
   "metadata": {
    "scrolled": true
   },
   "outputs": [
    {
     "name": "stdout",
     "output_type": "stream",
     "text": [
      "Number of articles: 316832\n",
      "Number of sources: 215\n",
      "Average number of articles per source: 1473.64\n",
      "Number of fact-checking-articles: 3297\n",
      "Number of claims: 3423\n",
      "Number of discussion-posts: 710993\n"
     ]
    }
   ],
   "source": [
    "for entity in ['articles', 'sources', 'fact-checking-articles', 'claims', 'discussion-posts']:\n",
    "    print('Number of ' + str(entity) + ': ' + str(len(df[entity])))\n",
    "    \n",
    "    if entity in ['sources']:\n",
    "        print('Average number of articles per source: ' + str(round(len(df['articles']) / len(df[entity]), 2)))"
   ]
  },
  {
   "cell_type": "markdown",
   "metadata": {},
   "source": [
    "### Sources"
   ]
  },
  {
   "cell_type": "code",
   "execution_count": 8,
   "metadata": {},
   "outputs": [
    {
     "name": "stdout",
     "output_type": "stream",
     "text": [
      "Number of articles' sources: 208\n",
      "Number of medical fact checking articles' sources: 7\n"
     ]
    }
   ],
   "source": [
    "print('Number of articles\\' sources: ' + str(len(df['articles']['source_id'].unique())))\n",
    "print('Number of medical fact checking articles\\' sources: ' + str(len(df['fact-checking-articles']['source_id'].unique())))"
   ]
  },
  {
   "cell_type": "code",
   "execution_count": 9,
   "metadata": {},
   "outputs": [
    {
     "name": "stdout",
     "output_type": "stream",
     "text": [
      "Number of articles' reliable sources: 22\n",
      "Number of articles' unreliable sources: 48\n",
      "Number of articles' unknown sources: 138\n"
     ]
    }
   ],
   "source": [
    "for reliability in ['reliable', 'unreliable', 'unknown']:\n",
    "    print('Number of articles\\' ' + str(reliability) + ' sources: ' + str(len(df['sources'][(df['sources'].index.isin(df['articles']['source_id'].unique())) & (df['sources'].value_reliability_rating == reliability)])))"
   ]
  },
  {
   "cell_type": "markdown",
   "metadata": {},
   "source": [
    "### Articles"
   ]
  },
  {
   "cell_type": "code",
   "execution_count": 10,
   "metadata": {},
   "outputs": [
    {
     "name": "stdout",
     "output_type": "stream",
     "text": [
      "Number of articles from reliable sources: 123227\n",
      "Percentage of articles from reliable sources: 38.89 %\n",
      "Number of articles from unknown sources: 16408\n",
      "Percentage of articles from unknown sources: 5.18 %\n",
      "Number of articles from unreliable sources: 177197\n",
      "Percentage of articles from unreliable sources: 55.93 %\n"
     ]
    }
   ],
   "source": [
    "for reliability in ['reliable', 'unknown', 'unreliable']:\n",
    "    sources = df['sources'][df['sources'].value_reliability_rating == reliability]\n",
    "    articles = df['articles'][df['articles'].source_id.isin(sources.index.tolist())]\n",
    "        \n",
    "    print('Number of articles from ' + str(reliability) + ' sources: ' + str(len(articles)))\n",
    "    print('Percentage of articles from ' + str(reliability) + ' sources: ' + str(round(len(articles)*100/len(df['articles']), 2)) + ' %')"
   ]
  },
  {
   "cell_type": "code",
   "execution_count": 11,
   "metadata": {},
   "outputs": [],
   "source": [
    "day_start = '-01-01'\n",
    "day_end = '-12-31'\n",
    "year_start = 1998\n",
    "year_end = 2022\n",
    "request_URL = 'articles'\n",
    "\n",
    "years = []\n",
    "n_articles_year = []\n",
    "\n",
    "for year in range(year_start, year_end + 1, 1):\n",
    "    date_start = str(year) + day_start\n",
    "    date_end = str(year) + day_end\n",
    "    \n",
    "    years.append(year)\n",
    "    n_articles_year.append(len(df['articles'][(df['articles']['published_at'] > date_start) & (df['articles']['published_at'] < date_end)]))"
   ]
  },
  {
   "cell_type": "code",
   "execution_count": 12,
   "metadata": {},
   "outputs": [
    {
     "name": "stdout",
     "output_type": "stream",
     "text": [
      "Number of English medical articles published in years 1995-(freeze time year):\n"
     ]
    },
    {
     "data": {
      "image/png": "[encoded data removed]",
      "text/plain": [
       "<Figure size 504x360 with 1 Axes>"
      ]
     },
     "metadata": {
      "needs_background": "light"
     },
     "output_type": "display_data"
    }
   ],
   "source": [
    "print('Number of English medical articles published in years 1995-(freeze time year):')\n",
    "plt.rcParams['figure.figsize'] = 7, 5\n",
    "plt.rcParams['figure.autolayout'] = True\n",
    "plt.rcParams['pdf.fonttype'] = 42\n",
    "plt.rcParams['pdf.use14corefonts'] = True\n",
    "\n",
    "font = {'size': 17} \n",
    "f = plt.figure()\n",
    "plt.xlabel('Year', fontsize=22)\n",
    "plt.ylabel('Number of articles', fontsize=22)\n",
    "matplotlib.rc('font', **font)\n",
    "plt.bar(years, n_articles_year)\n",
    "\n",
    "f.savefig(\"image_export/articles_timeline.pdf\", bbox_inches='tight')"
   ]
  },
  {
   "cell_type": "markdown",
   "metadata": {},
   "source": [
    "### Fact-checking articles & Claims"
   ]
  },
  {
   "cell_type": "code",
   "execution_count": 13,
   "metadata": {},
   "outputs": [
    {
     "name": "stdout",
     "output_type": "stream",
     "text": [
      "Number of fact checking articles from source factcheck.org: 30\n",
      "Number of fact checking articles from source politifact.com: 1\n",
      "Number of fact checking articles from source metafact.io: 1093\n",
      "Number of fact checking articles from source healthfeedback.org: 435\n",
      "Number of fact checking articles from source snopes.com: 768\n",
      "Number of fact checking articles from source fullfact.org: 967\n",
      "Number of fact checking articles from source sciencefeedback.co: 3\n"
     ]
    }
   ],
   "source": [
    "for index, row in df['fact-checking-articles'].groupby('source_id').size().reset_index(name='count').iterrows():\n",
    "    source_name = df['sources'].loc[row['source_id']]['name']\n",
    "    source_n_articles = row['count']\n",
    "    print('Number of fact checking articles from source ' + str(source_name) + ': ' + str(source_n_articles))"
   ]
  },
  {
   "cell_type": "code",
   "execution_count": 14,
   "metadata": {},
   "outputs": [
    {
     "name": "stdout",
     "output_type": "stream",
     "text": [
      "Number of claims: 3423\n",
      "\n",
      "\n",
      "Number of falseclaims: 983\n",
      "Percentage of false claims: 28.72 %\n",
      "\n",
      "Number of mostly-falseclaims: 60\n",
      "Percentage of mostly-false claims: 1.75 %\n",
      "\n",
      "Number of mixtureclaims: 100\n",
      "Percentage of mixture claims: 2.92 %\n",
      "\n",
      "Number of mostly-trueclaims: 39\n",
      "Percentage of mostly-true claims: 1.14 %\n",
      "\n",
      "Number of trueclaims: 259\n",
      "Percentage of true claims: 7.57 %\n",
      "\n",
      "Number of unknown claims: 1982\n",
      "Percentage of unknown claims: 57.9 %\n",
      "\n"
     ]
    }
   ],
   "source": [
    "ratings = []\n",
    "n_claims_ratings = []\n",
    "ratings_names_dict = {\n",
    "    'null': 'Unknown',\n",
    "    'unknown': 'Unknown',\n",
    "    'false': 'False',\n",
    "    'mostly-false': 'Mostly\\nfalse',\n",
    "    'mixture': 'Mixture',\n",
    "    'mostly-true': 'Mostly\\ntrue',\n",
    "    'true': 'True'\n",
    "}\n",
    "\n",
    "print('Number of claims: ' + str(len(df['claims'])))\n",
    "print('\\n')\n",
    "\n",
    "claims_medical_n_rating_unknown = len(df['claims'])\n",
    "for rating in ['false', 'mostly-false', 'mixture', 'mostly-true', 'true']:\n",
    "    claims_medical_n_rating = len(df['claims'][df['claims'].rating == rating])\n",
    "    print('Number of ' + str(rating) + 'claims: ' + str(claims_medical_n_rating))\n",
    "    print(f\"Percentage of {str(rating)} claims: {round((claims_medical_n_rating / len(df['claims']) * 100), 2)} %\\n\")\n",
    "    claims_medical_n_rating_unknown = claims_medical_n_rating_unknown - claims_medical_n_rating\n",
    "    \n",
    "    ratings.append(ratings_names_dict[rating])\n",
    "    n_claims_ratings.append(claims_medical_n_rating)\n",
    "    \n",
    "    \n",
    "rating = 'unknown'\n",
    "print('Number of ' + str(rating) + ' claims: ' + str(claims_medical_n_rating_unknown))\n",
    "print(f\"Percentage of {str(rating)} claims: {round((claims_medical_n_rating_unknown / len(df['claims']) * 100), 2)} %\\n\")\n",
    "ratings.append(rating)\n",
    "n_claims_ratings.append(claims_medical_n_rating_unknown)"
   ]
  },
  {
   "cell_type": "code",
   "execution_count": 15,
   "metadata": {},
   "outputs": [
    {
     "name": "stdout",
     "output_type": "stream",
     "text": [
      "Number of medical claims in our dataset per claim rating:\n"
     ]
    },
    {
     "data": {
      "image/png": "[encoded data removed]",
      "text/plain": [
       "<Figure size 504x360 with 1 Axes>"
      ]
     },
     "metadata": {
      "needs_background": "light"
     },
     "output_type": "display_data"
    }
   ],
   "source": [
    "print('Number of medical claims in our dataset per claim rating:')\n",
    "plt.rcParams['figure.figsize'] = 7, 5\n",
    "plt.rcParams['figure.autolayout'] = True\n",
    "plt.rcParams['pdf.fonttype'] = 42\n",
    "plt.rcParams['pdf.use14corefonts'] = True\n",
    "\n",
    "font = {'size': 15} \n",
    "f = plt.figure()\n",
    "plt.xlabel('Rating', fontsize=22)\n",
    "plt.ylabel('Number of claims', fontsize=22)\n",
    "matplotlib.rc('font', **font)\n",
    "plt.xticks(rotation=45)\n",
    "plt.bar(ratings, n_claims_ratings)\n",
    "\n",
    "f.savefig(\"image_export/claims_veracity.pdf\", bbox_inches='tight')"
   ]
  },
  {
   "cell_type": "markdown",
   "metadata": {},
   "source": [
    "# Descriptive Analysis of Manual Annotations"
   ]
  },
  {
   "cell_type": "code",
   "execution_count": 16,
   "metadata": {},
   "outputs": [],
   "source": [
    "df_presence_annotations = df['relation-annotations'][(df['relation-annotations']['annotation_type_id'] == 2) & (df['relation-annotations']['annotation_category'] == 'label')]"
   ]
  },
  {
   "cell_type": "code",
   "execution_count": 17,
   "metadata": {},
   "outputs": [
    {
     "name": "stdout",
     "output_type": "stream",
     "text": [
      "Number of presence labels with value present/suggestive for Sample 1: 222 (50.57 %)\n",
      "Number of presence labels with value not present for Sample 1: 217 (49.43 %)\n",
      "Number of presence labels in total for Sample 1: 439\n",
      "Number of presence labels with value present/suggestive for Sample 2: 101 (75.37 %)\n",
      "Number of presence labels with value not present for Sample 2: 33 (24.63 %)\n",
      "Number of presence labels in total for Sample 2: 134\n",
      "Number of presence labels with value present/suggestive for both samples: 323 (56.37 %)\n",
      "Number of presence labels with value not present for both samples: 250 (43.63 %)\n",
      "Number of presence labels in total for both samples: 573\n"
     ]
    }
   ],
   "source": [
    "total_count = len(df_presence_annotations[(df_presence_annotations['created_at'] < '2022-01-01') & ((df_presence_annotations['value_annotation_value'] == 'present') | (df_presence_annotations['value_annotation_value'] == 'suggestive') | (df_presence_annotations['value_annotation_value'] == 'not-present'))])\n",
    "\n",
    "count = len(df_presence_annotations[(df_presence_annotations['created_at'] < '2022-01-01') & ((df_presence_annotations['value_annotation_value'] == 'present') | (df_presence_annotations['value_annotation_value'] == 'suggestive'))])\n",
    "print('Number of presence labels with value present/suggestive for Sample 1: ' + str(count) + ' (' + str(round(count*100/total_count, 2)) + ' %)')\n",
    "count = len(df_presence_annotations[(df_presence_annotations['created_at'] < '2022-01-01') & (df_presence_annotations['value_annotation_value'] == 'not-present')])\n",
    "print('Number of presence labels with value not present for Sample 1: ' + str(count) + ' (' + str(round(count*100/total_count, 2)) + ' %)')\n",
    "print('Number of presence labels in total for Sample 1: ' + str(total_count))\n",
    "\n",
    "\n",
    "total_count = len(df_presence_annotations[(df_presence_annotations['created_at'] > '2022-01-01') & ((df_presence_annotations['value_annotation_value'] == 'present') | (df_presence_annotations['value_annotation_value'] == 'suggestive') | (df_presence_annotations['value_annotation_value'] == 'not-present'))])\n",
    "\n",
    "count = len(df_presence_annotations[(df_presence_annotations['created_at'] > '2022-01-01') & ((df_presence_annotations['value_annotation_value'] == 'present') | (df_presence_annotations['value_annotation_value'] == 'suggestive'))])\n",
    "print('Number of presence labels with value present/suggestive for Sample 2: ' + str(count) + ' (' + str(round(count*100/total_count, 2)) + ' %)')\n",
    "count = len(df_presence_annotations[(df_presence_annotations['created_at'] > '2022-01-01') & (df_presence_annotations['value_annotation_value'] == 'not-present')])\n",
    "print('Number of presence labels with value not present for Sample 2: ' + str(count) + ' (' + str(round(count*100/total_count, 2)) + ' %)')\n",
    "print('Number of presence labels in total for Sample 2: ' + str(total_count))\n",
    "\n",
    "total_count = len(df_presence_annotations[((df_presence_annotations['value_annotation_value'] == 'present') | (df_presence_annotations['value_annotation_value'] == 'suggestive') | (df_presence_annotations['value_annotation_value'] == 'not-present'))])\n",
    "\n",
    "count = len(df_presence_annotations[((df_presence_annotations['value_annotation_value'] == 'present') | (df_presence_annotations['value_annotation_value'] == 'suggestive'))])\n",
    "print('Number of presence labels with value present/suggestive for both samples: ' + str(count) + ' (' + str(round(count*100/total_count, 2)) + ' %)')\n",
    "count = len(df_presence_annotations[(df_presence_annotations['value_annotation_value'] == 'not-present')])\n",
    "print('Number of presence labels with value not present for both samples: ' + str(count) + ' (' + str(round(count*100/total_count, 2)) + ' %)')\n",
    "print('Number of presence labels in total for both samples: ' + str(total_count))"
   ]
  },
  {
   "cell_type": "code",
   "execution_count": 61,
   "metadata": {},
   "outputs": [
    {
     "name": "stdout",
     "output_type": "stream",
     "text": [
      "Number of presence labels in which annotators' disagreement occured: 63 (8.57 %)\n"
     ]
    }
   ],
   "source": [
    "disagreement_count = 0\n",
    "\n",
    "for index,presence_annotation in df_presence_annotations.iterrows():\n",
    "    annotation_values = set()\n",
    "    for annotation in presence_annotation.annotations:\n",
    "        annotation_values.add(annotation['value'])\n",
    "        \n",
    "    if ('present' in annotation_values or 'suggestive' in annotation_values) and ('not-present' in annotation_values):\n",
    "        disagreement_count = disagreement_count + 1\n",
    "        \n",
    "total_count = len(df_presence_annotations)\n",
    "print('Number of presence labels in which annotators\\' disagreement occured: ' + str(disagreement_count) + ' (' + str(round(disagreement_count*100/total_count, 2)) + ' %)')\n"
   ]
  },
  {
   "cell_type": "code",
   "execution_count": 19,
   "metadata": {},
   "outputs": [
    {
     "name": "stdout",
     "output_type": "stream",
     "text": [
      "Number of stance labels with value promoting for Sample 1: 129 (61.43 %)\n",
      "Number of stance labels with value contradicting for Sample 1: 62 (29.52 %)\n",
      "Number of stance labels with value neutral for Sample 1: 19 (9.05 %)\n",
      "Number of stance labels in total for Sample 1: 210\n",
      "Number of stance labels with value promoting for Sample 2: 74 (74.75 %)\n",
      "Number of stance labels with value contradicting for Sample 2: 24 (24.24 %)\n",
      "Number of stance labels with value neutral for Sample 2: 1 (1.01 %)\n",
      "Number of stance labels in total for Sample 2: 99\n",
      "Number of stance labels with value promoting for both samples: 203 (65.7 %)\n",
      "Number of stance labels with value contradicting for both samples: 86 (27.83 %)\n",
      "Number of stance labels with value neutral for both samples: 20 (6.47 %)\n",
      "Number of stance labels in total for both samples: 309\n"
     ]
    }
   ],
   "source": [
    "total_count = len(df_stance_annotations[(df_stance_annotations['created_at'] < '2022-01-01') & ((df_stance_annotations['value_annotation_value'] == 'supporting') | (df_stance_annotations['value_annotation_value'] == 'contradicting') | (df_stance_annotations['value_annotation_value'] == 'neutral'))])\n",
    "\n",
    "count = len(df_stance_annotations[(df_stance_annotations['created_at'] < '2022-01-01') & (df_stance_annotations['value_annotation_value'] == 'supporting')])\n",
    "print('Number of stance labels with value promoting for Sample 1: ' + str(count) + ' (' + str(round(count*100/total_count, 2)) + ' %)')\n",
    "count = len(df_stance_annotations[(df_stance_annotations['created_at'] < '2022-01-01') & (df_stance_annotations['value_annotation_value'] == 'contradicting')])\n",
    "print('Number of stance labels with value contradicting for Sample 1: ' + str(count) + ' (' + str(round(count*100/total_count, 2)) + ' %)')\n",
    "count = len(df_stance_annotations[(df_stance_annotations['created_at'] < '2022-01-01') & (df_stance_annotations['value_annotation_value'] == 'neutral')])\n",
    "print('Number of stance labels with value neutral for Sample 1: ' + str(count) + ' (' + str(round(count*100/total_count, 2)) + ' %)')\n",
    "print('Number of stance labels in total for Sample 1: ' + str(total_count))\n",
    "\n",
    "\n",
    "total_count = len(df_stance_annotations[(df_stance_annotations['created_at'] > '2022-01-01') & ((df_stance_annotations['value_annotation_value'] == 'supporting') | (df_stance_annotations['value_annotation_value'] == 'contradicting') | (df_stance_annotations['value_annotation_value'] == 'neutral'))])\n",
    "\n",
    "count = len(df_stance_annotations[(df_stance_annotations['created_at'] > '2022-01-01') & (df_stance_annotations['value_annotation_value'] == 'supporting')])\n",
    "print('Number of stance labels with value promoting for Sample 2: ' + str(count) + ' (' + str(round(count*100/total_count, 2)) + ' %)')\n",
    "count = len(df_stance_annotations[(df_stance_annotations['created_at'] > '2022-01-01') & (df_stance_annotations['value_annotation_value'] == 'contradicting')])\n",
    "print('Number of stance labels with value contradicting for Sample 2: ' + str(count) + ' (' + str(round(count*100/total_count, 2)) + ' %)')\n",
    "count = len(df_stance_annotations[(df_stance_annotations['created_at'] > '2022-01-01') & (df_stance_annotations['value_annotation_value'] == 'neutral')])\n",
    "print('Number of stance labels with value neutral for Sample 2: ' + str(count) + ' (' + str(round(count*100/total_count, 2)) + ' %)')\n",
    "print('Number of stance labels in total for Sample 2: ' + str(total_count))\n",
    "\n",
    "total_count = len(df_stance_annotations[((df_stance_annotations['value_annotation_value'] == 'supporting') | (df_stance_annotations['value_annotation_value'] == 'contradicting') | (df_stance_annotations['value_annotation_value'] == 'neutral'))])\n",
    "\n",
    "count = len(df_stance_annotations[(df_stance_annotations['value_annotation_value'] == 'supporting')])\n",
    "print('Number of stance labels with value promoting for both samples: ' + str(count) + ' (' + str(round(count*100/total_count, 2)) + ' %)')\n",
    "count = len(df_stance_annotations[(df_stance_annotations['value_annotation_value'] == 'contradicting')])\n",
    "print('Number of stance labels with value contradicting for both samples: ' + str(count) + ' (' + str(round(count*100/total_count, 2)) + ' %)')\n",
    "count = len(df_stance_annotations[(df_stance_annotations['value_annotation_value'] == 'neutral')])\n",
    "print('Number of stance labels with value neutral for both samples: ' + str(count) + ' (' + str(round(count*100/total_count, 2)) + ' %)')\n",
    "print('Number of stance labels in total for both samples: ' + str(total_count))"
   ]
  },
  {
   "cell_type": "code",
   "execution_count": 60,
   "metadata": {},
   "outputs": [
    {
     "name": "stdout",
     "output_type": "stream",
     "text": [
      "Number of stance labels in which annotators' disagreement occured: 51 (6.94 %)\n"
     ]
    }
   ],
   "source": [
    "disagreement_count = 0\n",
    "\n",
    "for index,stance_annotation in df_stance_annotations.iterrows():\n",
    "    annotation_values = set()\n",
    "    for annotation in stance_annotation.annotations:\n",
    "        annotation_values.add(annotation['value'])\n",
    "        \n",
    "    if 'supporting' in annotation_values and 'contradicting' in annotation_values or 'supporting' in annotation_values and 'neutral' in annotation_values or 'contradicting' in annotation_values and 'neutral' in annotation_values:\n",
    "        disagreement_count = disagreement_count + 1\n",
    "        \n",
    "total_count = len(df_presence_annotations)\n",
    "print('Number of stance labels in which annotators\\' disagreement occured: ' + str(disagreement_count) + ' (' + str(round(disagreement_count*100/total_count, 2)) + ' %)')"
   ]
  },
  {
   "cell_type": "markdown",
   "metadata": {},
   "source": [
    "# Descriptive Analysis of Predicted Annotations"
   ]
  },
  {
   "cell_type": "markdown",
   "metadata": {},
   "source": [
    "Besides raw data and manual labels, the introduced dataset also contains the predicted annotations (for claims presence, article stance and article-claim pair veracities)."
   ]
  },
  {
   "cell_type": "code",
   "execution_count": 20,
   "metadata": {},
   "outputs": [],
   "source": [
    "df['entity-annotations_veracity'] = df['entity-annotations'][(df['entity-annotations']['annotation_type_id'] == 6) & (df['entity-annotations']['annotation_category'] == 'prediction')].copy()"
   ]
  },
  {
   "cell_type": "code",
   "execution_count": 21,
   "metadata": {},
   "outputs": [],
   "source": [
    "df['entity-annotations_veracity'].value = df['entity-annotations_veracity'].value.fillna('{}')\n",
    "df['entity-annotations_veracity'] = df['entity-annotations_veracity'].join(df['entity-annotations_veracity']['value'].apply(json.loads).apply(pd.Series), rsuffix='_veracity_rating')\n",
    "df['entity-annotations_veracity'] = df['entity-annotations_veracity'][df['entity-annotations_veracity']['claims'].map(lambda d: len(d)) > 0]"
   ]
  },
  {
   "cell_type": "code",
   "execution_count": 22,
   "metadata": {},
   "outputs": [],
   "source": [
    "sources = df['sources'][df['sources'].value_reliability_rating == 'reliable']\n",
    "articles = df['articles'][df['articles'].source_id.isin(sources.index.tolist())]\n",
    "articles_reliable_ids = list(articles.index.tolist())\n",
    "\n",
    "sources = df['sources'][df['sources'].value_reliability_rating == 'unreliable']\n",
    "articles = df['articles'][df['articles'].source_id.isin(sources.index.tolist())]\n",
    "articles_unreliable_ids = list(articles.index.tolist())"
   ]
  },
  {
   "cell_type": "code",
   "execution_count": 23,
   "metadata": {},
   "outputs": [
    {
     "name": "stdout",
     "output_type": "stream",
     "text": [
      "Number of not present article-claim mappings: 365528\n",
      "Number of present article-claim mappings: 50953\n",
      "\n",
      "\n",
      "Number of mapped articles: 34850\n",
      "Percentage of mapped articles : 11.0 %\n",
      "\n",
      "\n",
      "\n",
      "Number of mapped claims: 1193\n",
      "Percentage of mapped claims: 34.85 %\n",
      "\n",
      "\n",
      "\n",
      "Number of present mapped claims with stance: 50953\n",
      "Number of present mapped claims with supporting stance: 40168\n",
      "Percentage of present mapped claims with supporting stance: 78.83 %\n",
      "\n",
      "Number of present mapped claims with neutral stance: 2065\n",
      "Percentage of present mapped claims with neutral stance: 4.05 %\n",
      "\n",
      "Number of present mapped claims with contradicting stance: 8720\n",
      "Percentage of present mapped claims with contradicting stance: 17.11 %\n",
      "\n",
      "\n",
      "\n",
      "Number of present mapped claims with partial veracity: 50953\n",
      "Number of present mapped claims with unknown partial veracity: 31828\n",
      "Percentage of present mapped claims with unknown partial veracity: 62.47 %\n",
      "\n",
      "Number of present mapped claims with true partial veracity: 8814\n",
      "Percentage of present mapped claims with true partial veracity: 17.3 %\n",
      "\n",
      "Number of present mapped claims with mostly-false partial veracity: 45\n",
      "Percentage of present mapped claims with mostly-false partial veracity: 0.09 %\n",
      "\n",
      "Number of present mapped claims with false partial veracity: 10170\n",
      "Percentage of present mapped claims with false partial veracity: 19.96 %\n",
      "\n",
      "Number of present mapped claims with mixture partial veracity: 55\n",
      "Percentage of present mapped claims with mixture partial veracity: 0.11 %\n",
      "\n",
      "Number of present mapped claims with mostly-true partial veracity: 41\n",
      "Percentage of present mapped claims with mostly-true partial veracity: 0.08 %\n",
      "\n",
      "\n",
      "\n",
      "Number of mapped articles witch veracity consistancy status false: 7680\n",
      "Percentage of mapped articles witch veracity consistancy status false: 22.04 %\n",
      "\n",
      "Number of mapped articles witch veracity consistancy status true: 7348\n",
      "Percentage of mapped articles witch veracity consistancy status true: 21.08 %\n",
      "\n",
      "Number of mapped articles witch veracity consistancy status inconsistent: 971\n",
      "Percentage of mapped articles witch veracity consistancy status inconsistent: 2.79 %\n",
      "\n",
      "\n",
      "\n",
      "Number of present claim article pairs - unknown sources: 3044\n",
      "Percentage of present claim article pairs - unknown sources: 5.97 %\n",
      "\n",
      "Number of present claim article pairs - false veracity from unknown source: 458\n",
      "Percentage of present claim article pairs from unknown sources - false veracity from unknown source: 15.05 %\n",
      "\n",
      "Number of present claim article pairs - true veracity from unknown source: 512\n",
      "Percentage of present claim article pairs from unknown sources - true veracity from unknown source: 16.82 %\n",
      "\n",
      "Number of present claim article pairs - reliable sources: 12815\n",
      "Percentage of present claim article pairs - reliable sources: 25.15 %\n",
      "\n",
      "Number of present claim article pairs - false veracity from reliable source: 2186\n",
      "Percentage of present claim article pairs from reliable sources - false veracity from reliable source: 17.06 %\n",
      "\n",
      "Number of present claim article pairs - true veracity from reliable source: 2549\n",
      "Percentage of present claim article pairs from reliable sources - true veracity from reliable source: 19.89 %\n",
      "\n",
      "Number of present claim article pairs - unreliable sources: 35094\n",
      "Percentage of present claim article pairs - unreliable sources: 68.88 %\n",
      "\n",
      "Number of present claim article pairs - false veracity from unreliable source: 7571\n",
      "Percentage of present claim article pairs from unreliable sources - false veracity from unreliable source: 21.57 %\n",
      "\n",
      "Number of present claim article pairs - true veracity from unreliable source: 5794\n",
      "Percentage of present claim article pairs from unreliable sources - true veracity from unreliable source: 16.51 %\n",
      "\n"
     ]
    }
   ],
   "source": [
    "ac_pairs_present_yes = 0\n",
    "ac_pairs_present_no = 0\n",
    "\n",
    "claims_present_id = set()\n",
    "claims_present_not_id = set()\n",
    "\n",
    "veracity_set = {'false', 'mixture', 'mostly-false', 'mostly-true', 'true', 'unknown'}\n",
    "claims_pveracity_n = dict()\n",
    "for veracity in veracity_set:\n",
    "    claims_pveracity_n[veracity] = 0\n",
    "    \n",
    "stance_set = {'contradicting', 'neutral', 'supporting'}\n",
    "claims_stance_n = dict()\n",
    "for stance in stance_set:\n",
    "    claims_stance_n[stance] = 0\n",
    "    \n",
    "veracity_consistency_set = {'true', 'false', 'inconsistent'}\n",
    "veracity_consistency_n = dict()\n",
    "for veracity in veracity_consistency_set:\n",
    "    veracity_consistency_n[veracity] = 0\n",
    "    \n",
    "veracity_binary_set = {' true', ' false', ''}\n",
    "reliability_set = {'unreliable', 'reliable', 'unknown'}\n",
    "veracity_reliability_n = dict()\n",
    "\n",
    "for reliability in reliability_set:\n",
    "    for veracity in veracity_binary_set:\n",
    "        veracity_reliability_n[reliability + veracity] = 0\n",
    "\n",
    "\n",
    "for index, row in df['entity-annotations_veracity'].iterrows():\n",
    "    \n",
    "    if int(row['entity_id']) in articles_reliable_ids:\n",
    "        source_reliability = 'reliable' \n",
    "    elif int(row['entity_id']) in articles_unreliable_ids:\n",
    "        source_reliability = 'unreliable'\n",
    "    else:\n",
    "        source_reliability = 'unknown'\n",
    "    \n",
    "    article_veracity_init = True\n",
    "    veracity_consistent = True\n",
    "    \n",
    "    for claim in row['claims']:\n",
    "        \n",
    "        if claim['presence'] == 'yes':\n",
    "            ac_pairs_present_yes = ac_pairs_present_yes + 1\n",
    "            \n",
    "            claims_present_id.add(claim['claim_id'])\n",
    "            \n",
    "            if claim['stance'] in claims_stance_n:\n",
    "                claims_stance_n[claim['stance']] = claims_stance_n[claim['stance']] + 1\n",
    "            else:\n",
    "                claims_stance_n['neutral'] = claims_stance_n['neutral'] + 1\n",
    "            \n",
    "            claims_pveracity_n[claim['partial_veracity']] = claims_pveracity_n[claim['partial_veracity']] + 1\n",
    "            veracity_reliability_n[source_reliability] = veracity_reliability_n[source_reliability] + 1\n",
    "            \n",
    "            if (claim['partial_veracity'] in {'false', 'mostly-false', 'mostly-true', 'true'}):\n",
    "                if claim['partial_veracity'] in {'mostly-true', 'true'}:\n",
    "                    claim_veracity = 'true'\n",
    "                    veracity_reliability_n[source_reliability + ' ' + claim_veracity] = veracity_reliability_n[source_reliability +' '+ claim_veracity] + 1\n",
    "                if claim['partial_veracity'] in {'false', 'mostly-false'}:\n",
    "                    claim_veracity = 'false'\n",
    "                    veracity_reliability_n[source_reliability + ' ' + claim_veracity] = veracity_reliability_n[source_reliability +' '+ claim_veracity] + 1\n",
    "                    \n",
    "                if article_veracity_init:\n",
    "                    article_veracity = claim_veracity\n",
    "                    article_veracity_init = False\n",
    "                    \n",
    "                if article_veracity != claim_veracity:\n",
    "                    veracity_consistent = False\n",
    "\n",
    "    if article_veracity_init == False:\n",
    "            if veracity_consistent:\n",
    "                veracity_consistency_n[article_veracity] = veracity_consistency_n[article_veracity] + 1\n",
    "            else:\n",
    "                veracity_consistency_n['inconsistent'] = veracity_consistency_n['inconsistent'] + 1\n",
    "\n",
    "ac_pairs_present_all = len(df['relation-annotations'][(df['relation-annotations']['annotation_type_id'] == 2) & (df['relation-annotations']['annotation_category'] == 'prediction')])\n",
    "ac_pairs_present_no = ac_pairs_present_all - ac_pairs_present_yes\n",
    "\n",
    "print('Number of not present article-claim mappings: ' + str(ac_pairs_present_no))\n",
    "print('Number of present article-claim mappings: ' + str(ac_pairs_present_yes))\n",
    "\n",
    "print('\\n')\n",
    "\n",
    "print('Number of mapped articles: ' + str(len(df['entity-annotations_veracity'])))\n",
    "print(f\"Percentage of mapped articles : {round((len(df['entity-annotations_veracity']) / len(df['articles']) * 100), 2)} %\\n\")\n",
    "\n",
    "print('\\n')\n",
    "\n",
    "print('Number of mapped claims: ' + str(len(claims_present_id)))\n",
    "print(f\"Percentage of mapped claims: {round((len(claims_present_id) / len(df['claims']) * 100), 2)} %\\n\")\n",
    "\n",
    "print('\\n')\n",
    "\n",
    "print('Number of present mapped claims with stance: ' + str(ac_pairs_present_yes))\n",
    "for stance,number in claims_stance_n.items():\n",
    "    print('Number of present mapped claims with ' + str(stance) + ' stance: ' + str(number))\n",
    "    print(f\"Percentage of present mapped claims with {str(stance)} stance: {round((number / ac_pairs_present_yes * 100), 2)} %\\n\")\n",
    "print('\\n')\n",
    "\n",
    "print('Number of present mapped claims with partial veracity: ' + str(ac_pairs_present_yes))                                                                              \n",
    "for veracity,number in claims_pveracity_n.items():\n",
    "    print('Number of present mapped claims with ' + str(veracity) + ' partial veracity: ' + str(number))\n",
    "    print(f\"Percentage of present mapped claims with {str(veracity)} partial veracity: {round((number / ac_pairs_present_yes * 100), 2)} %\\n\")\n",
    "    \n",
    "print('\\n')\n",
    "                                                                            \n",
    "for veracity,number in veracity_consistency_n.items():\n",
    "    print('Number of mapped articles witch veracity consistancy status ' + str(veracity) + ': ' + str(number))\n",
    "    print(f\"Percentage of mapped articles witch veracity consistancy status {str(veracity)}: {round((number / len(df['entity-annotations_veracity']) * 100), 2)} %\\n\")\n",
    "    \n",
    "print('\\n')\n",
    "       \n",
    "for rating,number in veracity_reliability_n.items():\n",
    "    if rating in ['unreliable', 'reliable', 'unknown']:\n",
    "        print('Number of present claim article pairs - ' + str(rating) + ' sources: ' + str(number))\n",
    "        print(f\"Percentage of present claim article pairs - {str(rating)} sources: {round((number / ac_pairs_present_yes * 100), 2)} %\\n\")\n",
    "    else:\n",
    "        reliability = rating.split()[0]\n",
    "        veracity = rating.split()[1]\n",
    "        print('Number of present claim article pairs - ' + str(veracity) + ' veracity from ' + str(reliability) + ' source: ' + str(number))\n",
    "        print(f\"Percentage of present claim article pairs from {str(reliability)} sources - {str(veracity)} veracity from {str(reliability)} source: {round((number / veracity_reliability_n[reliability] * 100), 2)} %\\n\")"
   ]
  },
  {
   "cell_type": "code",
   "execution_count": 24,
   "metadata": {},
   "outputs": [],
   "source": [
    "claims_source_names = dict()\n",
    "claims_sources_names_set = set()\n",
    "\n",
    "for claim_id in claims_present_id:\n",
    "    fcas = df['relation-annotations'][(df['relation-annotations'].target_entity_type == 'claims') & (df['relation-annotations'].target_entity_id == claim_id) & (df['relation-annotations'].source_entity_type == 'fact_checking_articles')]\n",
    "    \n",
    "    if len(fcas) > 0:\n",
    "        fc = df['fact-checking-articles'].loc[fcas.iloc[0].source_entity_id]\n",
    "        source = df['sources'].loc[fc['source_id']]\n",
    "        source_name = source['name']\n",
    "\n",
    "        claims_source_names[claim_id] = source_name\n",
    "        claims_sources_names_set.add(source_name)\n",
    "    else:\n",
    "        claims_source_names[claim_id] = 'unknown'\n",
    "        claims_sources_names_set.add('unknown')"
   ]
  },
  {
   "cell_type": "code",
   "execution_count": 25,
   "metadata": {},
   "outputs": [],
   "source": [
    "claims_source_names_n = dict()\n",
    "for source_name in claims_sources_names_set:\n",
    "    claims_source_names_n[source_name] = 0\n",
    "claims_source_names_n['Ghenai 2018'] = 0\n",
    "\n",
    "for index, row in df['entity-annotations_veracity'].iterrows():\n",
    "    for claim in row['claims']:\n",
    "        if claim['claim_id'] in range(5300, 5431, 1):\n",
    "            source_name = 'Ghenai 2018'\n",
    "        elif claim['claim_id'] in [5690]:\n",
    "            # Fix: This particular fact-checking article (and corresponding claim) was probably originally marked with a tag as medical and the tag was removed later\n",
    "            source_name = 'metafact.io'\n",
    "        else:\n",
    "            source_name = claims_source_names[claim['claim_id']]\n",
    "        claims_source_names_n[source_name] = claims_source_names_n[source_name] + 1"
   ]
  },
  {
   "cell_type": "code",
   "execution_count": 26,
   "metadata": {},
   "outputs": [
    {
     "name": "stdout",
     "output_type": "stream",
     "text": [
      "Number of present mapped article-claim pairs - claims from source snopes.com: 793\n",
      "Percentage of present mapped article-claim pairs - claims from source snopes.com: 1.56 %\n",
      "\n",
      "Number of present mapped article-claim pairs - claims from source unknown: 0\n",
      "Percentage of present mapped article-claim pairs - claims from source unknown: 0.0 %\n",
      "\n",
      "Number of present mapped article-claim pairs - claims from source sciencefeedback.co: 6\n",
      "Percentage of present mapped article-claim pairs - claims from source sciencefeedback.co: 0.01 %\n",
      "\n",
      "Number of present mapped article-claim pairs - claims from source healthfeedback.org: 4878\n",
      "Percentage of present mapped article-claim pairs - claims from source healthfeedback.org: 9.57 %\n",
      "\n",
      "Number of present mapped article-claim pairs - claims from source fullfact.org: 9418\n",
      "Percentage of present mapped article-claim pairs - claims from source fullfact.org: 18.48 %\n",
      "\n",
      "Number of present mapped article-claim pairs - claims from source factcheck.org: 2\n",
      "Percentage of present mapped article-claim pairs - claims from source factcheck.org: 0.0 %\n",
      "\n",
      "Number of present mapped article-claim pairs - claims from source metafact.io: 33950\n",
      "Percentage of present mapped article-claim pairs - claims from source metafact.io: 66.63 %\n",
      "\n",
      "Number of present mapped article-claim pairs - claims from source Ghenai 2018: 1906\n",
      "Percentage of present mapped article-claim pairs - claims from source Ghenai 2018: 3.74 %\n",
      "\n"
     ]
    }
   ],
   "source": [
    "for source_name,number in claims_source_names_n.items():\n",
    "    print('Number of present mapped article-claim pairs - claims from source '+ str(source_name) + ': ' + str(number))\n",
    "    print(f\"Percentage of present mapped article-claim pairs - claims from source {str(source_name)}: {round((number / ac_pairs_present_yes * 100), 2)} %\\n\")"
   ]
  }
 ],
 "metadata": {
  "kernelspec": {
   "display_name": "Python 3 (ipykernel)",
   "language": "python",
   "name": "python3"
  },
  "language_info": {
   "codemirror_mode": {
    "name": "ipython",
    "version": 3
   },
   "file_extension": ".py",
   "mimetype": "text/x-python",
   "name": "python",
   "nbconvert_exporter": "python",
   "pygments_lexer": "ipython3",
   "version": "3.9.5"
  }
 },
 "nbformat": 4,
 "nbformat_minor": 4
}
