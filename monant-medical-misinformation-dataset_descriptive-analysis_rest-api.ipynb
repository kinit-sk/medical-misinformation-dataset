{
 "cells": [
  {
   "cell_type": "markdown",
   "metadata": {},
   "source": [
    "# Descriptive analysis of Monant Medical Misinformation Dataset (REST API)"
   ]
  },
  {
   "cell_type": "markdown",
   "metadata": {},
   "source": [
    "## Initialization"
   ]
  },
  {
   "cell_type": "markdown",
   "metadata": {},
   "source": [
    "Import of necessary libraries"
   ]
  },
  {
   "cell_type": "code",
   "execution_count": 1,
   "metadata": {},
   "outputs": [],
   "source": [
    "%matplotlib inline\n",
    "\n",
    "import re\n",
    "import json\n",
    "import pandas as pd\n",
    "import numpy as np\n",
    "import matplotlib\n",
    "import matplotlib.pyplot as plt\n",
    "import requests"
   ]
  },
  {
   "cell_type": "markdown",
   "metadata": {},
   "source": [
    "REST API credentials"
   ]
  },
  {
   "cell_type": "code",
   "execution_count": 2,
   "metadata": {},
   "outputs": [],
   "source": [
    "username = ''\n",
    "password = ''"
   ]
  },
  {
   "cell_type": "markdown",
   "metadata": {},
   "source": [
    "In order to make the analysis replicable, it uses a ”freeze time range” (currently set from January 1, 1990 to February 1, 2022). As the result, only those data that were present in the Monant platform up to this date are considered.\n",
    "\n",
    "Note: Freeze time is set to the same date when the static dump was created, however, it may differ slightly in the exact time of day. Therefore small differences between descriptive analyses from REST API and static dump may appear. "
   ]
  },
  {
   "cell_type": "code",
   "execution_count": 3,
   "metadata": {},
   "outputs": [],
   "source": [
    "time_freeze_on = True\n",
    "time_freeze_from = '1990-01-01'\n",
    "time_freeze_to = '2022-02-01'"
   ]
  },
  {
   "cell_type": "markdown",
   "metadata": {},
   "source": [
    "Set API base URL"
   ]
  },
  {
   "cell_type": "code",
   "execution_count": 4,
   "metadata": {},
   "outputs": [],
   "source": [
    "API_URL = 'https://api.monant.kinit.sk/'"
   ]
  },
  {
   "cell_type": "markdown",
   "metadata": {},
   "source": [
    "Set version of API"
   ]
  },
  {
   "cell_type": "code",
   "execution_count": 5,
   "metadata": {},
   "outputs": [],
   "source": [
    "API_URL_v = 'v1/'"
   ]
  },
  {
   "cell_type": "markdown",
   "metadata": {},
   "source": [
    "## Helper functions"
   ]
  },
  {
   "cell_type": "markdown",
   "metadata": {},
   "source": [
    "### Get access token"
   ]
  },
  {
   "cell_type": "code",
   "execution_count": 6,
   "metadata": {},
   "outputs": [],
   "source": [
    "def get_access_token():\n",
    "    request_body = {'username': username, 'password': password}\n",
    "    r = requests.post(API_URL + 'auth', json = request_body)\n",
    "    access_token = r.json()['access_token']\n",
    "    \n",
    "    return(access_token)"
   ]
  },
  {
   "cell_type": "markdown",
   "metadata": {},
   "source": [
    "Obtain a Monant API access token with a lifespan of several hours. Subsequently, a new one must be requested."
   ]
  },
  {
   "cell_type": "code",
   "execution_count": 7,
   "metadata": {},
   "outputs": [],
   "source": [
    "access_token = get_access_token()"
   ]
  },
  {
   "cell_type": "markdown",
   "metadata": {},
   "source": [
    "### Get data"
   ]
  },
  {
   "cell_type": "code",
   "execution_count": 8,
   "metadata": {},
   "outputs": [],
   "source": [
    "api_batch_size = 100"
   ]
  },
  {
   "cell_type": "code",
   "execution_count": 9,
   "metadata": {},
   "outputs": [],
   "source": [
    "def get_data(request_URL, request_params):\n",
    "    if time_freeze_on:\n",
    "        if request_URL in ['articles', 'fact-checking-articles', 'discussions', 'discussion-posts']:\n",
    "            request_params['from'] = time_freeze_from\n",
    "            request_params['to'] = time_freeze_to\n",
    "            \n",
    "        if request_URL in ['claims', 'sources', 'relation-annotations', 'entity-annotations']:\n",
    "            request_params['created_from'] = time_freeze_from\n",
    "            request_params['created_to'] = time_freeze_to\n",
    "    \n",
    "    return(requests.get(\n",
    "            API_URL + API_URL_v + request_URL,\n",
    "            params=request_params,\n",
    "            headers={\"Content-Type\": \"application/json\", \"Authorization\": f\"JWT {access_token}\"}\n",
    "        ))"
   ]
  },
  {
   "cell_type": "code",
   "execution_count": 10,
   "metadata": {},
   "outputs": [],
   "source": [
    "def get_entity_df(entity, request_params):\n",
    "    request_params['size'] = 1\n",
    "    pages_n = (get_data(entity, request_params).json()['pagination']['pages'] // api_batch_size) + 1\n",
    "    entity_key = entity_to_entity_key(entity)\n",
    "    data_json = []\n",
    "    request_params['size'] = api_batch_size\n",
    "    \n",
    "    for page in range(1, pages_n + 1):\n",
    "        request_params['page'] = page\n",
    "        data_json_batch = json.loads(json.dumps(get_data(entity, request_params).json()[entity_key]))\n",
    "        data_json = data_json + data_json_batch\n",
    "\n",
    "    df_batch = pd.json_normalize(data_json)\n",
    "    return df_batch"
   ]
  },
  {
   "cell_type": "code",
   "execution_count": 11,
   "metadata": {},
   "outputs": [],
   "source": [
    "def entity_to_entity_key(entity):\n",
    "    entity_key = re.sub('-', '_', entity)\n",
    "    return entity_key"
   ]
  },
  {
   "cell_type": "markdown",
   "metadata": {},
   "source": [
    "### Data preprocessing"
   ]
  },
  {
   "cell_type": "code",
   "execution_count": 12,
   "metadata": {},
   "outputs": [],
   "source": [
    "df_fact_checking_articles = get_entity_df('fact-checking-articles', dict())"
   ]
  },
  {
   "cell_type": "code",
   "execution_count": 13,
   "metadata": {},
   "outputs": [],
   "source": [
    "df_fact_checking_articles_medical = get_entity_df('fact-checking-articles', {'monitoring_tags': ['medical', 'english']})"
   ]
  },
  {
   "cell_type": "code",
   "execution_count": 14,
   "metadata": {},
   "outputs": [],
   "source": [
    "df_sources = get_entity_df('sources', dict())\n",
    "\n",
    "sources_id_en_medical = []\n",
    "\n",
    "for source in df_sources.iterrows():\n",
    "    if (get_data('articles', {'size': 1, 'monitoring_tags': ['medical', 'english'], 'sources': source[1]['id']}).json()['pagination']['total']) > 0:\n",
    "        sources_id_en_medical.append(source[1]['id'])\n",
    "\n",
    "sources_id_en_medical_reliable = df_sources.loc[(df_sources['id'].isin(sources_id_en_medical)) & (df_sources['veracity'] == 'reliable')].id\n",
    "sources_id_en_medical_unknown = df_sources.loc[(df_sources['id'].isin(sources_id_en_medical)) & (df_sources['veracity'] == 'unknown')].id\n",
    "sources_id_en_medical_unreliable = df_sources.loc[(df_sources['id'].isin(sources_id_en_medical)) & (df_sources['veracity'] == 'unreliable')].id"
   ]
  },
  {
   "cell_type": "markdown",
   "metadata": {},
   "source": [
    "# Overview of all Monant data"
   ]
  },
  {
   "cell_type": "markdown",
   "metadata": {},
   "source": [
    "_Note: The Monant platform is used to collect not only English medical data (as contained in the provided dataset), but also medical data in additional low-resource languages (at the moment Slovak, Czech) and from additional domains (e.g., politics). These additional data are available via REST API interface._\n",
    "\n",
    "_In this part of descriptive analyses, we provide overview of additional data collected by the Monant platform, also beyond the scope of the presented medical English misinformation dataset._"
   ]
  },
  {
   "cell_type": "markdown",
   "metadata": {},
   "source": [
    "Monant have collected so far in total:"
   ]
  },
  {
   "cell_type": "code",
   "execution_count": 15,
   "metadata": {
    "scrolled": true
   },
   "outputs": [
    {
     "name": "stdout",
     "output_type": "stream",
     "text": [
      "Number of articles: 885403\n",
      "Number of sources: 256\n",
      "Average number of articles per source: 3458.61\n",
      "Number of fact-checking-articles: 9633\n",
      "Number of claims: 9756\n",
      "Number of discussion-posts: 778947\n",
      "Number of discussions: 47849\n"
     ]
    }
   ],
   "source": [
    "for entity in ['articles', 'sources', 'fact-checking-articles', 'claims', 'discussion-posts', 'discussions']:\n",
    "    print('Number of ' + str(entity) + ': ' + str(get_data(entity, {'size': 1}).json()['pagination']['total']))\n",
    "    \n",
    "    if entity in ['sources']:\n",
    "        print('Average number of articles per source: ' + str(round(get_data('articles', {'size': 1}).json()['pagination']['total'] / get_data(entity, {'size': 1}).json()['pagination']['total'], 2)))"
   ]
  },
  {
   "cell_type": "code",
   "execution_count": 16,
   "metadata": {},
   "outputs": [
    {
     "name": "stdout",
     "output_type": "stream",
     "text": [
      "Number of reliable sources: 22\n",
      "Number of unreliable sources: 66\n",
      "Number of unknown sources: 168\n"
     ]
    }
   ],
   "source": [
    "for reliability in ['reliable', 'unreliable', 'unknown']:\n",
    "    print('Number of ' + str(reliability) + ' sources: ' + str(get_data('sources', {'size': 1, 'veracity': reliability}).json()['pagination']['total']))"
   ]
  },
  {
   "cell_type": "code",
   "execution_count": 17,
   "metadata": {},
   "outputs": [
    {
     "name": "stdout",
     "output_type": "stream",
     "text": [
      "Number of fact checking articles sources: 17\n",
      "\n",
      "\n",
      "Number of fact checking articles from source factcheck.org: 2654\n",
      "Number of fact checking articles from source politifact.com: 111\n",
      "Number of fact checking articles from source metafact.io: 1554\n",
      "Number of fact checking articles from source cbsnews.com: 7\n",
      "Number of fact checking articles from source healthfeedback.org: 435\n",
      "Number of fact checking articles from source washingtonpost.com: 34\n",
      "Number of fact checking articles from source reporterslab.org: 5\n",
      "Number of fact checking articles from source factcheck.afp.com: 2\n",
      "Number of fact checking articles from source snopes.com: 769\n",
      "Number of fact checking articles from source fullfact.org: 3977\n",
      "Number of fact checking articles from source nytimes.com: 3\n",
      "Number of fact checking articles from source sciencefeedback.co: 76\n",
      "Number of fact checking articles from source polygraph.info: 1\n",
      "Number of fact checking articles from source newswise.com: 1\n",
      "Number of fact checking articles from source bbc.com: 1\n",
      "Number of fact checking articles from source bbc.co.uk: 1\n",
      "Number of fact checking articles from source leadstories.com: 2\n"
     ]
    }
   ],
   "source": [
    "print('Number of fact checking articles sources: ' + str(len(df_fact_checking_articles.groupby(['source_id']))))\n",
    "print('\\n')\n",
    "\n",
    "for source in df_fact_checking_articles['source_id'].unique():    \n",
    "    source_json = get_data('sources', {'ids': source}).json()['sources'][0]\n",
    "    source_name = source_json.get('name', '')\n",
    "    source_n_articles = len(df_fact_checking_articles[df_fact_checking_articles.source_id == source])\n",
    "    \n",
    "    print('Number of fact checking articles from source ' + str(source_name) + ': ' + str(source_n_articles))"
   ]
  },
  {
   "cell_type": "code",
   "execution_count": 18,
   "metadata": {},
   "outputs": [
    {
     "name": "stdout",
     "output_type": "stream",
     "text": [
      "Number of medical articles: 355417\n",
      "Number of medical discussion-posts: 760868\n"
     ]
    }
   ],
   "source": [
    "for entity in ['articles', 'discussion-posts']:\n",
    "    print('Number of medical ' + str(entity) + ': ' + str(get_data(entity, {'size': 1, 'monitoring_tags': 'medical'}).json()['pagination']['total']))"
   ]
  },
  {
   "cell_type": "code",
   "execution_count": 19,
   "metadata": {},
   "outputs": [
    {
     "name": "stdout",
     "output_type": "stream",
     "text": [
      "Number of english medical articles: 316832\n",
      "Number of slovak medical articles: 17815\n",
      "Number of czech medical articles: 20770\n"
     ]
    }
   ],
   "source": [
    "for language in ['english', 'slovak', 'czech']:\n",
    "    print('Number of ' + str(language) + ' medical ' + str('articles') + ': ' + str(get_data('articles', {'size': 1, 'monitoring_tags': ['medical', language]}).json()['pagination']['total']))"
   ]
  },
  {
   "cell_type": "markdown",
   "metadata": {},
   "source": [
    "# Descriptive Analysis of Raw Data"
   ]
  },
  {
   "cell_type": "markdown",
   "metadata": {},
   "source": [
    "In the following descriptive analysis, we focus specifically on medical English data, which are contained in the provided dataset."
   ]
  },
  {
   "cell_type": "code",
   "execution_count": 20,
   "metadata": {},
   "outputs": [],
   "source": [
    "monitoring_tags = ['medical', 'english']"
   ]
  },
  {
   "cell_type": "markdown",
   "metadata": {},
   "source": [
    "Dataset contains in total:"
   ]
  },
  {
   "cell_type": "code",
   "execution_count": 21,
   "metadata": {},
   "outputs": [
    {
     "name": "stdout",
     "output_type": "stream",
     "text": [
      "Number of articles: 316832\n",
      "Number of sources: 215\n",
      "Average number of articles per source: 1473.64\n",
      "Number of fact-checking-articles: 3297\n",
      "Number of claims: 3423\n",
      "Number of discussion-posts: 710993\n"
     ]
    }
   ],
   "source": [
    "for entity in ['articles', 'sources', 'fact-checking-articles', 'claims', 'discussion-posts']:\n",
    "    if entity in ['articles', 'discussion-posts', 'discussions', 'claims', 'fact-checking-articles']:\n",
    "        print('Number of ' + str(entity) + ': ' + str(get_data(entity, {'size': 1, 'monitoring_tags': monitoring_tags}).json()['pagination']['total']))\n",
    "        \n",
    "    if entity in ['sources']:\n",
    "        print('Number of ' + str(entity) + ': ' + str(len(sources_id_en_medical) + len(df_fact_checking_articles_medical['source_id'].unique())))\n",
    "        print('Average number of articles per source: ' + str(round(get_data('articles', {'size': 1, 'monitoring_tags': monitoring_tags}).json()['pagination']['total'] / (len(sources_id_en_medical) + len(df_fact_checking_articles_medical['source_id'].unique())), 2)))"
   ]
  },
  {
   "cell_type": "markdown",
   "metadata": {},
   "source": [
    "### Sources"
   ]
  },
  {
   "cell_type": "code",
   "execution_count": 22,
   "metadata": {},
   "outputs": [
    {
     "name": "stdout",
     "output_type": "stream",
     "text": [
      "Number of medical articles' sources: 208\n",
      "Number of medical fact checking articles' sources: 7\n"
     ]
    }
   ],
   "source": [
    "print('Number of medical articles\\' sources: ' + str(len(sources_id_en_medical)))\n",
    "print('Number of medical fact checking articles\\' sources: ' + str(len(df_fact_checking_articles_medical['source_id'].unique())))"
   ]
  },
  {
   "cell_type": "code",
   "execution_count": 23,
   "metadata": {},
   "outputs": [
    {
     "name": "stdout",
     "output_type": "stream",
     "text": [
      "Number of articles' reliable sources: 22\n",
      "Number of articles' unreliable sources: 48\n",
      "Number of articles' unknown sources: 138\n"
     ]
    }
   ],
   "source": [
    "for reliability in ['reliable', 'unreliable', 'unknown']:\n",
    "    print('Number of articles\\' ' + str(reliability) + ' sources: ' + str(get_data('sources', {'size': 1, 'veracity': reliability, 'ids': sources_id_en_medical}).json()['pagination']['total']))"
   ]
  },
  {
   "cell_type": "markdown",
   "metadata": {},
   "source": [
    "### Articles"
   ]
  },
  {
   "cell_type": "code",
   "execution_count": 24,
   "metadata": {},
   "outputs": [
    {
     "name": "stdout",
     "output_type": "stream",
     "text": [
      "Number of articles from reliable sources: 123227\n",
      "Percentage of articles from reliable sources: 38.89 %\n",
      "Number of articles from unknown sources: 16408\n",
      "Percentage of articles from unknown sources: 5.18 %\n",
      "Number of articles from unreliable sources: 177197\n",
      "Percentage of articles from unreliable sources: 55.93 %\n"
     ]
    }
   ],
   "source": [
    "articles_en_med_total = get_data('articles', {'size': 1, 'monitoring_tags': monitoring_tags}).json()['pagination']['total']\n",
    "\n",
    "for reliability,sources_id_en_medical_reliability in zip(['reliable', 'unknown', 'unreliable'], [sources_id_en_medical_reliable, sources_id_en_medical_unknown, sources_id_en_medical_unreliable]):\n",
    "    sources_articles_n = 0\n",
    "    for source_id in sources_id_en_medical_reliability:\n",
    "        source_articles_n = get_data('articles', {'size': 1, 'sources': source_id}).json()['pagination']['total']\n",
    "        sources_articles_n = sources_articles_n + source_articles_n\n",
    "        \n",
    "    print('Number of articles from ' + str(reliability) + ' sources: ' + str(sources_articles_n))\n",
    "    print('Percentage of articles from ' + str(reliability) + ' sources: ' + str(round(sources_articles_n*100/articles_en_med_total, 2)) + ' %')"
   ]
  },
  {
   "cell_type": "code",
   "execution_count": 25,
   "metadata": {},
   "outputs": [],
   "source": [
    "day_start = '-01-01'\n",
    "day_end = '-12-31'\n",
    "year_start = 1995\n",
    "year_end = int(time_freeze_to.split('-')[0])\n",
    "request_URL = 'articles'\n",
    "\n",
    "years = []\n",
    "n_articles_year = []\n",
    "\n",
    "for year in range(year_start, year_end + 1, 1):\n",
    "    date_start = str(year) + day_start\n",
    "    if year == year_end:\n",
    "        date_end = time_freeze_to\n",
    "    else:\n",
    "        date_end = str(year) + day_end\n",
    "    \n",
    "    years.append(year)\n",
    "    n_articles_year.append(get_data('articles', {'size': 1, 'monitoring_tags': monitoring_tags, 'published_at_from': date_start, 'published_at_to': date_end}).json()['pagination']['total'])"
   ]
  },
  {
   "cell_type": "code",
   "execution_count": 26,
   "metadata": {},
   "outputs": [
    {
     "name": "stdout",
     "output_type": "stream",
     "text": [
      "Number of English medical articles published in years 1995-(freeze time year):\n"
     ]
    },
    {
     "data": {
      "image/png": "[encoded data removed]",
      "text/plain": [
       "<Figure size 504x360 with 1 Axes>"
      ]
     },
     "metadata": {
      "needs_background": "light"
     },
     "output_type": "display_data"
    }
   ],
   "source": [
    "print('Number of English medical articles published in years 1995-(freeze time year):')\n",
    "plt.rcParams['figure.figsize'] = 7, 5\n",
    "plt.rcParams['figure.autolayout'] = True\n",
    "plt.rcParams['pdf.fonttype'] = 42\n",
    "plt.rcParams['pdf.use14corefonts'] = True\n",
    "\n",
    "font = {'size': 17} \n",
    "f = plt.figure()\n",
    "plt.xlabel('Year', fontsize=22)\n",
    "plt.ylabel('Number of articles', fontsize=22)\n",
    "matplotlib.rc('font', **font)\n",
    "plt.bar(years, n_articles_year)\n",
    "\n",
    "f.savefig(\"image_export/articles_timeline.pdf\", bbox_inches='tight')"
   ]
  },
  {
   "cell_type": "markdown",
   "metadata": {},
   "source": [
    "### Fact-checking articles & Claims"
   ]
  },
  {
   "cell_type": "code",
   "execution_count": 27,
   "metadata": {},
   "outputs": [
    {
     "name": "stdout",
     "output_type": "stream",
     "text": [
      "Number of fact checking articles from source factcheck.org: 30\n",
      "Number of fact checking articles from source metafact.io: 1093\n",
      "Number of fact checking articles from source healthfeedback.org: 435\n",
      "Number of fact checking articles from source snopes.com: 768\n",
      "Number of fact checking articles from source fullfact.org: 967\n",
      "Number of fact checking articles from source politifact.com: 1\n",
      "Number of fact checking articles from source sciencefeedback.co: 3\n"
     ]
    }
   ],
   "source": [
    "for source in df_fact_checking_articles_medical['source_id'].unique():    \n",
    "    source_json = get_data('sources', {'ids': source}).json()['sources'][0]\n",
    "    source_name = source_json.get('name', '')\n",
    "    source_veracity = source_json.get('veracity')\n",
    "    source_n_articles = len(df_fact_checking_articles_medical[df_fact_checking_articles_medical.source_id == source])\n",
    "    \n",
    "    print('Number of fact checking articles from source ' + str(source_name) + ': ' + str(source_n_articles))"
   ]
  },
  {
   "cell_type": "code",
   "execution_count": 28,
   "metadata": {},
   "outputs": [
    {
     "name": "stdout",
     "output_type": "stream",
     "text": [
      "Number of claims: 3423\n",
      "\n",
      "\n",
      "Number of false claims: 983\n",
      "Percentage of false claims: 28.72 %\n",
      "\n",
      "Number of mostly-false claims: 60\n",
      "Percentage of mostly-false claims: 1.75 %\n",
      "\n",
      "Number of mixture claims: 100\n",
      "Percentage of mixture claims: 2.92 %\n",
      "\n",
      "Number of mostly-true claims: 39\n",
      "Percentage of mostly-true claims: 1.14 %\n",
      "\n",
      "Number of true claims: 261\n",
      "Percentage of true claims: 7.62 %\n",
      "\n",
      "Number of unknown claims: 1980\n",
      "Percentage of unknown claims: 57.84 %\n",
      "\n"
     ]
    }
   ],
   "source": [
    "ratings = []\n",
    "n_claims_ratings = []\n",
    "ratings_names_dict = {\n",
    "    'null': 'Unknown',\n",
    "    'unknown': 'Unknown',\n",
    "    'false': 'False',\n",
    "    'mostly-false': 'Mostly\\nfalse',\n",
    "    'mixture': 'Mixture',\n",
    "    'mostly-true': 'Mostly\\ntrue',\n",
    "    'true': 'True'\n",
    "}\n",
    "\n",
    "print('Number of claims: ' + str(get_data('claims', {'size': 1, 'monitoring_tags': monitoring_tags}).json()['pagination']['total']))\n",
    "print('\\n')\n",
    "\n",
    "claims_medical_n = get_data('claims', {'size': 100, 'monitoring_tags': monitoring_tags}).json()['pagination']['total']\n",
    "claims_medical_n_rating_unknown = claims_medical_n\n",
    "for rating in ['false', 'mostly-false', 'mixture', 'mostly-true', 'true']:\n",
    "    claims_medical_n_rating = get_data('claims', {'size': 1, 'monitoring_tags': monitoring_tags, 'rating': rating}).json()['pagination']['total']\n",
    "    print('Number of ' + str(rating) + ' claims: ' + str(claims_medical_n_rating))\n",
    "    print(f\"Percentage of {str(rating)} claims: {round((claims_medical_n_rating / claims_medical_n * 100), 2)} %\\n\")\n",
    "    claims_medical_n_rating_unknown = claims_medical_n_rating_unknown - claims_medical_n_rating\n",
    "    \n",
    "    ratings.append(ratings_names_dict[rating])\n",
    "    n_claims_ratings.append(claims_medical_n_rating)\n",
    "    \n",
    "    \n",
    "rating = 'unknown'\n",
    "print('Number of ' + str(rating) + ' claims: ' + str(claims_medical_n_rating_unknown))\n",
    "print(f\"Percentage of {str(rating)} claims: {round((claims_medical_n_rating_unknown / claims_medical_n * 100), 2)} %\\n\")\n",
    "ratings.append(rating)\n",
    "n_claims_ratings.append(claims_medical_n_rating_unknown)"
   ]
  },
  {
   "cell_type": "code",
   "execution_count": 29,
   "metadata": {},
   "outputs": [
    {
     "name": "stdout",
     "output_type": "stream",
     "text": [
      "Number of medical claims in our dataset per claim rating:\n"
     ]
    },
    {
     "data": {
      "image/png": "[encoded data removed]",
      "text/plain": [
       "<Figure size 504x360 with 1 Axes>"
      ]
     },
     "metadata": {
      "needs_background": "light"
     },
     "output_type": "display_data"
    }
   ],
   "source": [
    "print('Number of medical claims in our dataset per claim rating:')\n",
    "plt.rcParams['figure.figsize'] = 7, 5\n",
    "plt.rcParams['figure.autolayout'] = True\n",
    "plt.rcParams['pdf.fonttype'] = 42\n",
    "plt.rcParams['pdf.use14corefonts'] = True\n",
    "\n",
    "font = {'size': 17} \n",
    "f = plt.figure()\n",
    "plt.xlabel('Rating', fontsize=22)\n",
    "plt.ylabel('Number of claims', fontsize=22)\n",
    "matplotlib.rc('font', **font)\n",
    "plt.xticks(rotation=45)\n",
    "plt.bar(ratings, n_claims_ratings)\n",
    "\n",
    "f.savefig(\"image_export/claims_veracity.pdf\", bbox_inches='tight')"
   ]
  },
  {
   "cell_type": "markdown",
   "metadata": {},
   "source": [
    "# Descriptive Analysis of Manual Annotations"
   ]
  },
  {
   "cell_type": "code",
   "execution_count": 30,
   "metadata": {},
   "outputs": [],
   "source": [
    "df_presence_annotations = get_entity_df('relation-annotations', {'annotation_type': 'Claim presence', 'annotation_category': 'label'})"
   ]
  },
  {
   "cell_type": "code",
   "execution_count": 31,
   "metadata": {},
   "outputs": [
    {
     "name": "stdout",
     "output_type": "stream",
     "text": [
      "Number of presence labels with value present/suggestive for Sample 1: 222 (50.57 %)\n",
      "Number of presence labels with value not present for Sample 1: 217 (49.43 %)\n",
      "Number of presence labels in total for Sample 1: 439\n",
      "Number of presence labels with value present/suggestive for Sample 2: 101 (75.37 %)\n",
      "Number of presence labels with value not present for Sample 2: 33 (24.63 %)\n",
      "Number of presence labels in total for Sample 2: 134\n",
      "Number of presence labels with value present/suggestive for both samples: 323 (56.37 %)\n",
      "Number of presence labels with value not present for both samples: 250 (43.63 %)\n",
      "Number of presence labels in total for both samples: 573\n"
     ]
    }
   ],
   "source": [
    "total_count = len(df_presence_annotations[(df_presence_annotations['created_at'] < '2022-01-01') & ((df_presence_annotations['value.value'] == 'present') | (df_presence_annotations['value.value'] == 'suggestive') | (df_presence_annotations['value.value'] == 'not-present'))])\n",
    "\n",
    "count = len(df_presence_annotations[(df_presence_annotations['created_at'] < '2022-01-01') & ((df_presence_annotations['value.value'] == 'present') | (df_presence_annotations['value.value'] == 'suggestive'))])\n",
    "print('Number of presence labels with value present/suggestive for Sample 1: ' + str(count) + ' (' + str(round(count*100/total_count, 2)) + ' %)')\n",
    "count = len(df_presence_annotations[(df_presence_annotations['created_at'] < '2022-01-01') & (df_presence_annotations['value.value'] == 'not-present')])\n",
    "print('Number of presence labels with value not present for Sample 1: ' + str(count) + ' (' + str(round(count*100/total_count, 2)) + ' %)')\n",
    "print('Number of presence labels in total for Sample 1: ' + str(total_count))\n",
    "\n",
    "\n",
    "total_count = len(df_presence_annotations[(df_presence_annotations['created_at'] > '2022-01-01') & ((df_presence_annotations['value.value'] == 'present') | (df_presence_annotations['value.value'] == 'suggestive') | (df_presence_annotations['value.value'] == 'not-present'))])\n",
    "\n",
    "count = len(df_presence_annotations[(df_presence_annotations['created_at'] > '2022-01-01') & ((df_presence_annotations['value.value'] == 'present') | (df_presence_annotations['value.value'] == 'suggestive'))])\n",
    "print('Number of presence labels with value present/suggestive for Sample 2: ' + str(count) + ' (' + str(round(count*100/total_count, 2)) + ' %)')\n",
    "count = len(df_presence_annotations[(df_presence_annotations['created_at'] > '2022-01-01') & (df_presence_annotations['value.value'] == 'not-present')])\n",
    "print('Number of presence labels with value not present for Sample 2: ' + str(count) + ' (' + str(round(count*100/total_count, 2)) + ' %)')\n",
    "print('Number of presence labels in total for Sample 2: ' + str(total_count))\n",
    "\n",
    "total_count = len(df_presence_annotations[((df_presence_annotations['value.value'] == 'present') | (df_presence_annotations['value.value'] == 'suggestive') | (df_presence_annotations['value.value'] == 'not-present'))])\n",
    "\n",
    "count = len(df_presence_annotations[((df_presence_annotations['value.value'] == 'present') | (df_presence_annotations['value.value'] == 'suggestive'))])\n",
    "print('Number of presence labels with value present/suggestive for both samples: ' + str(count) + ' (' + str(round(count*100/total_count, 2)) + ' %)')\n",
    "count = len(df_presence_annotations[(df_presence_annotations['value.value'] == 'not-present')])\n",
    "print('Number of presence labels with value not present for both samples: ' + str(count) + ' (' + str(round(count*100/total_count, 2)) + ' %)')\n",
    "print('Number of presence labels in total for both samples: ' + str(total_count))"
   ]
  },
  {
   "cell_type": "code",
   "execution_count": 32,
   "metadata": {},
   "outputs": [
    {
     "name": "stdout",
     "output_type": "stream",
     "text": [
      "Number of presence labels in which annotators' disagreement occured: 63 (8.57 %)\n"
     ]
    }
   ],
   "source": [
    "disagreement_count = 0\n",
    "\n",
    "for index,presence_annotation in df_presence_annotations.iterrows():\n",
    "    annotation_values = set()\n",
    "    for annotation in presence_annotation['value.annotations']:\n",
    "        annotation_values.add(annotation['value'])\n",
    "\n",
    "    if ('present' in annotation_values or 'suggestive' in annotation_values) and ('not-present' in annotation_values):\n",
    "        disagreement_count = disagreement_count + 1\n",
    "        \n",
    "total_count = len(df_presence_annotations)\n",
    "print('Number of presence labels in which annotators\\' disagreement occured: ' + str(disagreement_count) + ' (' + str(round(disagreement_count*100/total_count, 2)) + ' %)')"
   ]
  },
  {
   "cell_type": "code",
   "execution_count": 33,
   "metadata": {},
   "outputs": [],
   "source": [
    "df_stance_annotations = get_entity_df('relation-annotations', {'annotation_type': 'Claim stance', 'annotation_category': 'label'})"
   ]
  },
  {
   "cell_type": "code",
   "execution_count": 34,
   "metadata": {},
   "outputs": [
    {
     "name": "stdout",
     "output_type": "stream",
     "text": [
      "Number of stance labels with value promoting for Sample 1: 129 (61.43 %)\n",
      "Number of stance labels with value contradicting for Sample 1: 62 (29.52 %)\n",
      "Number of stance labels with value neutral for Sample 1: 19 (9.05 %)\n",
      "Number of stance labels in total for Sample 1: 210\n",
      "Number of stance labels with value promoting for Sample 2: 74 (74.75 %)\n",
      "Number of stance labels with value contradicting for Sample 2: 24 (24.24 %)\n",
      "Number of stance labels with value neutral for Sample 2: 1 (1.01 %)\n",
      "Number of stance labels in total for Sample 2: 99\n",
      "Number of stance labels with value promoting for both samples: 203 (65.7 %)\n",
      "Number of stance labels with value contradicting for both samples: 86 (27.83 %)\n",
      "Number of stance labels with value neutral for both samples: 20 (6.47 %)\n",
      "Number of stance labels in total for both samples: 309\n"
     ]
    }
   ],
   "source": [
    "total_count = len(df_stance_annotations[(df_stance_annotations['created_at'] < '2022-01-01') & ((df_stance_annotations['value.value'] == 'supporting') | (df_stance_annotations['value.value'] == 'contradicting') | (df_stance_annotations['value.value'] == 'neutral'))])\n",
    "\n",
    "count = len(df_stance_annotations[(df_stance_annotations['created_at'] < '2022-01-01') & (df_stance_annotations['value.value'] == 'supporting')])\n",
    "print('Number of stance labels with value promoting for Sample 1: ' + str(count) + ' (' + str(round(count*100/total_count, 2)) + ' %)')\n",
    "count = len(df_stance_annotations[(df_stance_annotations['created_at'] < '2022-01-01') & (df_stance_annotations['value.value'] == 'contradicting')])\n",
    "print('Number of stance labels with value contradicting for Sample 1: ' + str(count) + ' (' + str(round(count*100/total_count, 2)) + ' %)')\n",
    "count = len(df_stance_annotations[(df_stance_annotations['created_at'] < '2022-01-01') & (df_stance_annotations['value.value'] == 'neutral')])\n",
    "print('Number of stance labels with value neutral for Sample 1: ' + str(count) + ' (' + str(round(count*100/total_count, 2)) + ' %)')\n",
    "print('Number of stance labels in total for Sample 1: ' + str(total_count))\n",
    "\n",
    "\n",
    "total_count = len(df_stance_annotations[(df_stance_annotations['created_at'] > '2022-01-01') & ((df_stance_annotations['value.value'] == 'supporting') | (df_stance_annotations['value.value'] == 'contradicting') | (df_stance_annotations['value.value'] == 'neutral'))])\n",
    "\n",
    "count = len(df_stance_annotations[(df_stance_annotations['created_at'] > '2022-01-01') & (df_stance_annotations['value.value'] == 'supporting')])\n",
    "print('Number of stance labels with value promoting for Sample 2: ' + str(count) + ' (' + str(round(count*100/total_count, 2)) + ' %)')\n",
    "count = len(df_stance_annotations[(df_stance_annotations['created_at'] > '2022-01-01') & (df_stance_annotations['value.value'] == 'contradicting')])\n",
    "print('Number of stance labels with value contradicting for Sample 2: ' + str(count) + ' (' + str(round(count*100/total_count, 2)) + ' %)')\n",
    "count = len(df_stance_annotations[(df_stance_annotations['created_at'] > '2022-01-01') & (df_stance_annotations['value.value'] == 'neutral')])\n",
    "print('Number of stance labels with value neutral for Sample 2: ' + str(count) + ' (' + str(round(count*100/total_count, 2)) + ' %)')\n",
    "print('Number of stance labels in total for Sample 2: ' + str(total_count))\n",
    "\n",
    "total_count = len(df_stance_annotations[((df_stance_annotations['value.value'] == 'supporting') | (df_stance_annotations['value.value'] == 'contradicting') | (df_stance_annotations['value.value'] == 'neutral'))])\n",
    "\n",
    "count = len(df_stance_annotations[(df_stance_annotations['value.value'] == 'supporting')])\n",
    "print('Number of stance labels with value promoting for both samples: ' + str(count) + ' (' + str(round(count*100/total_count, 2)) + ' %)')\n",
    "count = len(df_stance_annotations[(df_stance_annotations['value.value'] == 'contradicting')])\n",
    "print('Number of stance labels with value contradicting for both samples: ' + str(count) + ' (' + str(round(count*100/total_count, 2)) + ' %)')\n",
    "count = len(df_stance_annotations[(df_stance_annotations['value.value'] == 'neutral')])\n",
    "print('Number of stance labels with value neutral for both samples: ' + str(count) + ' (' + str(round(count*100/total_count, 2)) + ' %)')\n",
    "print('Number of stance labels in total for both samples: ' + str(total_count))"
   ]
  },
  {
   "cell_type": "code",
   "execution_count": 35,
   "metadata": {},
   "outputs": [
    {
     "name": "stdout",
     "output_type": "stream",
     "text": [
      "Number of stance labels in which annotators' disagreement occured: 51 (6.94 %)\n"
     ]
    }
   ],
   "source": [
    "disagreement_count = 0\n",
    "\n",
    "for index,stance_annotation in df_stance_annotations.iterrows():\n",
    "    annotation_values = set()\n",
    "    for annotation in stance_annotation['value.annotations']:\n",
    "        annotation_values.add(annotation['value'])\n",
    "        \n",
    "    if 'supporting' in annotation_values and 'contradicting' in annotation_values or 'supporting' in annotation_values and 'neutral' in annotation_values or 'contradicting' in annotation_values and 'neutral' in annotation_values:\n",
    "        disagreement_count = disagreement_count + 1\n",
    "        \n",
    "total_count = len(df_presence_annotations)\n",
    "print('Number of stance labels in which annotators\\' disagreement occured: ' + str(disagreement_count) + ' (' + str(round(disagreement_count*100/total_count, 2)) + ' %)')"
   ]
  },
  {
   "cell_type": "markdown",
   "metadata": {},
   "source": [
    "# Descriptive Analysis of Predicted Annotations"
   ]
  },
  {
   "cell_type": "markdown",
   "metadata": {},
   "source": [
    "Besides raw data and manual labels, the introduced dataset also contains the predicted annotations (for claims presence, article stance and article-claim pair veracities)."
   ]
  },
  {
   "cell_type": "code",
   "execution_count": 36,
   "metadata": {},
   "outputs": [],
   "source": [
    "df_entity_annotations = get_entity_df('entity-annotations', {'annotation_type': 'Article veracity', 'annotation_category': 'prediction'})"
   ]
  },
  {
   "cell_type": "code",
   "execution_count": 37,
   "metadata": {},
   "outputs": [],
   "source": [
    "df_entity_annotations_vclaims = df_entity_annotations[df_entity_annotations['value.claims'].map(lambda d: len(d)) > 0]"
   ]
  },
  {
   "cell_type": "code",
   "execution_count": 38,
   "metadata": {},
   "outputs": [],
   "source": [
    "sources_reliable_ids = df_sources[df_sources['veracity'] == 'reliable']['id'].tolist()\n",
    "sources_unreliable_ids = df_sources[df_sources['veracity'] == 'unreliable']['id'].tolist()\n",
    "\n",
    "articles_reliable_ids = list()\n",
    "articles_unreliable_ids = list()\n",
    "\n",
    "for source_id in sources_reliable_ids:\n",
    "    article_ids = [0]\n",
    "    while article_ids:\n",
    "        article_ids = get_data('articles', {'id_only': 'yes', 'count': 1000, 'last_id': article_ids[-1], 'sources': source_id}).json()['ids']\n",
    "        articles_reliable_ids.extend(article_ids)\n",
    "    \n",
    "for source_id in sources_unreliable_ids:\n",
    "    article_ids = [0]\n",
    "    while article_ids:\n",
    "        article_ids = get_data('articles', {'id_only': 'yes', 'count': 1000, 'last_id': article_ids[-1], 'sources': source_id}).json()['ids']\n",
    "        articles_unreliable_ids.extend(article_ids)"
   ]
  },
  {
   "cell_type": "code",
   "execution_count": 39,
   "metadata": {},
   "outputs": [
    {
     "name": "stdout",
     "output_type": "stream",
     "text": [
      "Number of not present article-claim mappings: 365528\n",
      "Number of present article-claim mappings: 50953\n",
      "\n",
      "\n",
      "Number of mapped articles: 34850\n",
      "Percentage of mapped articles : 11.0 %\n",
      "\n",
      "\n",
      "\n",
      "Number of mapped claims: 1193\n",
      "Percentage of mapped claims: 34.85 %\n",
      "\n",
      "\n",
      "\n",
      "Number of present mapped claims with stance: 50953\n",
      "Number of present mapped claims with contradicting stance: 8720\n",
      "Percentage of present mapped claims with contradicting stance: 17.11 %\n",
      "\n",
      "Number of present mapped claims with neutral stance: 2065\n",
      "Percentage of present mapped claims with neutral stance: 4.05 %\n",
      "\n",
      "Number of present mapped claims with supporting stance: 40168\n",
      "Percentage of present mapped claims with supporting stance: 78.83 %\n",
      "\n",
      "\n",
      "\n",
      "Number of present mapped claims with partial veracity: 50953\n",
      "Number of present mapped claims with mostly-true partial veracity: 41\n",
      "Percentage of present mapped claims with mostly-true partial veracity: 0.08 %\n",
      "\n",
      "Number of present mapped claims with mixture partial veracity: 55\n",
      "Percentage of present mapped claims with mixture partial veracity: 0.11 %\n",
      "\n",
      "Number of present mapped claims with unknown partial veracity: 31780\n",
      "Percentage of present mapped claims with unknown partial veracity: 62.37 %\n",
      "\n",
      "Number of present mapped claims with mostly-false partial veracity: 45\n",
      "Percentage of present mapped claims with mostly-false partial veracity: 0.09 %\n",
      "\n",
      "Number of present mapped claims with false partial veracity: 10192\n",
      "Percentage of present mapped claims with false partial veracity: 20.0 %\n",
      "\n",
      "Number of present mapped claims with true partial veracity: 8840\n",
      "Percentage of present mapped claims with true partial veracity: 17.35 %\n",
      "\n",
      "\n",
      "\n",
      "Number of mapped articles witch veracity consistancy status inconsistent: 977\n",
      "Percentage of mapped articles witch veracity consistancy status inconsistent: 2.8 %\n",
      "\n",
      "Number of mapped articles witch veracity consistancy status false: 7696\n",
      "Percentage of mapped articles witch veracity consistancy status false: 22.08 %\n",
      "\n",
      "Number of mapped articles witch veracity consistancy status true: 7365\n",
      "Percentage of mapped articles witch veracity consistancy status true: 21.13 %\n",
      "\n",
      "\n",
      "\n",
      "Number of present claim article pairs - unknown sources: 3044\n",
      "Percentage of present claim article pairs - unknown sources: 5.97 %\n",
      "\n",
      "Number of present claim article pairs - true veracity from unknown source: 514\n",
      "Percentage of present claim article pairs from unknown sources - true veracity from unknown source: 16.89 %\n",
      "\n",
      "Number of present claim article pairs - false veracity from unknown source: 460\n",
      "Percentage of present claim article pairs from unknown sources - false veracity from unknown source: 15.11 %\n",
      "\n",
      "Number of present claim article pairs - unreliable sources: 35094\n",
      "Percentage of present claim article pairs - unreliable sources: 68.88 %\n",
      "\n",
      "Number of present claim article pairs - true veracity from unreliable source: 5813\n",
      "Percentage of present claim article pairs from unreliable sources - true veracity from unreliable source: 16.56 %\n",
      "\n",
      "Number of present claim article pairs - false veracity from unreliable source: 7586\n",
      "Percentage of present claim article pairs from unreliable sources - false veracity from unreliable source: 21.62 %\n",
      "\n",
      "Number of present claim article pairs - reliable sources: 12815\n",
      "Percentage of present claim article pairs - reliable sources: 25.15 %\n",
      "\n",
      "Number of present claim article pairs - true veracity from reliable source: 2554\n",
      "Percentage of present claim article pairs from reliable sources - true veracity from reliable source: 19.93 %\n",
      "\n",
      "Number of present claim article pairs - false veracity from reliable source: 2191\n",
      "Percentage of present claim article pairs from reliable sources - false veracity from reliable source: 17.1 %\n",
      "\n"
     ]
    }
   ],
   "source": [
    "ac_pairs_present_yes = 0\n",
    "ac_pairs_present_no = 0\n",
    "\n",
    "claims_present_id = set()\n",
    "claims_present_not_id = set()\n",
    "\n",
    "veracity_set = {'false', 'mixture', 'mostly-false', 'mostly-true', 'true', 'unknown'}\n",
    "claims_pveracity_n = dict()\n",
    "for veracity in veracity_set:\n",
    "    claims_pveracity_n[veracity] = 0\n",
    "    \n",
    "stance_set = {'contradicting', 'neutral', 'supporting'}\n",
    "claims_stance_n = dict()\n",
    "for stance in stance_set:\n",
    "    claims_stance_n[stance] = 0\n",
    "    \n",
    "veracity_consistency_set = {'true', 'false', 'inconsistent'}\n",
    "veracity_consistency_n = dict()\n",
    "for veracity in veracity_consistency_set:\n",
    "    veracity_consistency_n[veracity] = 0\n",
    "    \n",
    "veracity_binary_set = {' true', ' false', ''}\n",
    "reliability_set = {'unreliable', 'reliable', 'unknown'}\n",
    "veracity_reliability_n = dict()\n",
    "\n",
    "for reliability in reliability_set:\n",
    "    for veracity in veracity_binary_set:\n",
    "        veracity_reliability_n[reliability + veracity] = 0\n",
    "\n",
    "\n",
    "for index, row in df_entity_annotations_vclaims.iterrows():\n",
    "    \n",
    "    if int(row['entity_id']) in articles_reliable_ids:\n",
    "        source_reliability = 'reliable' \n",
    "    elif int(row['entity_id']) in articles_unreliable_ids:\n",
    "        source_reliability = 'unreliable'\n",
    "    else:\n",
    "        source_reliability = 'unknown'\n",
    "    \n",
    "    article_veracity_init = True\n",
    "    veracity_consistent = True\n",
    "    \n",
    "    for claim in row['value.claims']:\n",
    "        \n",
    "        if claim['presence'] == 'yes':\n",
    "            ac_pairs_present_yes = ac_pairs_present_yes + 1\n",
    "            \n",
    "            claims_present_id.add(claim['claim_id'])\n",
    "            \n",
    "            if claim['stance'] in claims_stance_n:\n",
    "                claims_stance_n[claim['stance']] = claims_stance_n[claim['stance']] + 1\n",
    "            else:\n",
    "                claims_stance_n['neutral'] = claims_stance_n['neutral'] + 1\n",
    "            \n",
    "            claims_pveracity_n[claim['partial_veracity']] = claims_pveracity_n[claim['partial_veracity']] + 1\n",
    "            veracity_reliability_n[source_reliability] = veracity_reliability_n[source_reliability] + 1\n",
    "            \n",
    "            if (claim['partial_veracity'] in {'false', 'mostly-false', 'mostly-true', 'true'}):\n",
    "                if claim['partial_veracity'] in {'mostly-true', 'true'}:\n",
    "                    claim_veracity = 'true'\n",
    "                    veracity_reliability_n[source_reliability + ' ' + claim_veracity] = veracity_reliability_n[source_reliability +' '+ claim_veracity] + 1\n",
    "                if claim['partial_veracity'] in {'false', 'mostly-false'}:\n",
    "                    claim_veracity = 'false'\n",
    "                    veracity_reliability_n[source_reliability + ' ' + claim_veracity] = veracity_reliability_n[source_reliability +' '+ claim_veracity] + 1\n",
    "                    \n",
    "                if article_veracity_init:\n",
    "                    article_veracity = claim_veracity\n",
    "                    article_veracity_init = False\n",
    "                    \n",
    "                if article_veracity != claim_veracity:\n",
    "                    veracity_consistent = False\n",
    "\n",
    "    if article_veracity_init == False:\n",
    "            if veracity_consistent:\n",
    "                veracity_consistency_n[article_veracity] = veracity_consistency_n[article_veracity] + 1\n",
    "            else:\n",
    "                veracity_consistency_n['inconsistent'] = veracity_consistency_n['inconsistent'] + 1\n",
    "\n",
    "ac_pairs_present_all = get_data('relation-annotations', {'size': 1, 'annotation_type': 'Claim presence', 'annotation_category': 'prediction'}).json()['pagination']['total']\n",
    "ac_pairs_present_no = ac_pairs_present_all - ac_pairs_present_yes\n",
    "\n",
    "print('Number of not present article-claim mappings: ' + str(ac_pairs_present_no))\n",
    "print('Number of present article-claim mappings: ' + str(ac_pairs_present_yes))\n",
    "\n",
    "print('\\n')\n",
    "\n",
    "print('Number of mapped articles: ' + str(len(df_entity_annotations_vclaims)))\n",
    "print(f\"Percentage of mapped articles : {round((len(df_entity_annotations_vclaims) / get_data('articles', {'size': 1, 'monitoring_tags': monitoring_tags}).json()['pagination']['total'] * 100), 2)} %\\n\")\n",
    "\n",
    "print('\\n')\n",
    "\n",
    "print('Number of mapped claims: ' + str(len(claims_present_id)))\n",
    "print(f\"Percentage of mapped claims: {round((len(claims_present_id) / get_data('claims', {'size': 1, 'monitoring_tags': monitoring_tags}).json()['pagination']['total'] * 100), 2)} %\\n\")\n",
    "\n",
    "print('\\n')\n",
    "\n",
    "print('Number of present mapped claims with stance: ' + str(ac_pairs_present_yes))\n",
    "for stance,number in claims_stance_n.items():\n",
    "    print('Number of present mapped claims with ' + str(stance) + ' stance: ' + str(number))\n",
    "    print(f\"Percentage of present mapped claims with {str(stance)} stance: {round((number / ac_pairs_present_yes * 100), 2)} %\\n\")\n",
    "print('\\n')\n",
    "\n",
    "print('Number of present mapped claims with partial veracity: ' + str(ac_pairs_present_yes))                                                                              \n",
    "for veracity,number in claims_pveracity_n.items():\n",
    "    print('Number of present mapped claims with ' + str(veracity) + ' partial veracity: ' + str(number))\n",
    "    print(f\"Percentage of present mapped claims with {str(veracity)} partial veracity: {round((number / ac_pairs_present_yes * 100), 2)} %\\n\")\n",
    "    \n",
    "print('\\n')\n",
    "                                                                            \n",
    "for veracity,number in veracity_consistency_n.items():\n",
    "    print('Number of mapped articles witch veracity consistancy status ' + str(veracity) + ': ' + str(number))\n",
    "    print(f\"Percentage of mapped articles witch veracity consistancy status {str(veracity)}: {round((number / len(df_entity_annotations_vclaims) * 100), 2)} %\\n\")\n",
    "    \n",
    "print('\\n')\n",
    "       \n",
    "for rating,number in veracity_reliability_n.items():\n",
    "    if rating in ['unreliable', 'reliable', 'unknown']:\n",
    "        print('Number of present claim article pairs - ' + str(rating) + ' sources: ' + str(number))\n",
    "        print(f\"Percentage of present claim article pairs - {str(rating)} sources: {round((number / ac_pairs_present_yes * 100), 2)} %\\n\")\n",
    "    else:\n",
    "        reliability = rating.split()[0]\n",
    "        veracity = rating.split()[1]\n",
    "        print('Number of present claim article pairs - ' + str(veracity) + ' veracity from ' + str(reliability) + ' source: ' + str(number))\n",
    "        print(f\"Percentage of present claim article pairs from {str(reliability)} sources - {str(veracity)} veracity from {str(reliability)} source: {round((number / veracity_reliability_n[reliability] * 100), 2)} %\\n\")"
   ]
  },
  {
   "cell_type": "code",
   "execution_count": 40,
   "metadata": {},
   "outputs": [],
   "source": [
    "claims_source_names = dict()\n",
    "claims_sources_names_set = set()\n",
    "\n",
    "for claim_id in claims_present_id:\n",
    "    fcas = get_data('relation-annotations', {'target_entity_type': 'claims', 'target_entity_id': claim_id, 'source_entity_type': 'fact_checking_articles'}).json()\n",
    "    \n",
    "    if fcas['pagination']['total'] > 0:\n",
    "        fca_id = fcas['relation_annotations'][0]['source_entity_id']\n",
    "        source_name = get_data('fact-checking-articles/' + str(fca_id), {}).json()['source']['name']\n",
    "\n",
    "        claims_source_names[claim_id] = source_name\n",
    "        claims_sources_names_set.add(source_name)\n",
    "    else:\n",
    "        claims_source_names[claim_id] = 'unknown'\n",
    "        claims_sources_names_set.add('unknown')"
   ]
  },
  {
   "cell_type": "code",
   "execution_count": 41,
   "metadata": {},
   "outputs": [],
   "source": [
    "claims_source_names_n = dict()\n",
    "for source_name in claims_sources_names_set:\n",
    "    claims_source_names_n[source_name] = 0\n",
    "claims_source_names_n['Ghenai 2018'] = 0\n",
    "for index, row in df_entity_annotations_vclaims.iterrows():\n",
    "    for claim in row['value.claims']:\n",
    "        if claim['claim_id'] in range(5300, 5431, 1):\n",
    "            source_name = 'Ghenai 2018'\n",
    "        else:\n",
    "            source_name = claims_source_names[claim['claim_id']]\n",
    "        claims_source_names_n[source_name] = claims_source_names_n[source_name] + 1"
   ]
  },
  {
   "cell_type": "code",
   "execution_count": 42,
   "metadata": {},
   "outputs": [
    {
     "name": "stdout",
     "output_type": "stream",
     "text": [
      "Number of present mapped article-claim pairs - claims from source metafact.io: 33950\n",
      "Percentage of present mapped article-claim pairs - claims from source metafact.io: 66.63 %\n",
      "\n",
      "Number of present mapped article-claim pairs - claims from source sciencefeedback.co: 6\n",
      "Percentage of present mapped article-claim pairs - claims from source sciencefeedback.co: 0.01 %\n",
      "\n",
      "Number of present mapped article-claim pairs - claims from source snopes.com: 793\n",
      "Percentage of present mapped article-claim pairs - claims from source snopes.com: 1.56 %\n",
      "\n",
      "Number of present mapped article-claim pairs - claims from source fullfact.org: 9418\n",
      "Percentage of present mapped article-claim pairs - claims from source fullfact.org: 18.48 %\n",
      "\n",
      "Number of present mapped article-claim pairs - claims from source unknown: 0\n",
      "Percentage of present mapped article-claim pairs - claims from source unknown: 0.0 %\n",
      "\n",
      "Number of present mapped article-claim pairs - claims from source healthfeedback.org: 4878\n",
      "Percentage of present mapped article-claim pairs - claims from source healthfeedback.org: 9.57 %\n",
      "\n",
      "Number of present mapped article-claim pairs - claims from source factcheck.org: 2\n",
      "Percentage of present mapped article-claim pairs - claims from source factcheck.org: 0.0 %\n",
      "\n",
      "Number of present mapped article-claim pairs - claims from source Ghenai 2018: 1906\n",
      "Percentage of present mapped article-claim pairs - claims from source Ghenai 2018: 3.74 %\n",
      "\n"
     ]
    }
   ],
   "source": [
    "for source_name,number in claims_source_names_n.items():\n",
    "    print('Number of present mapped article-claim pairs - claims from source '+ str(source_name) + ': ' + str(number))\n",
    "    print(f\"Percentage of present mapped article-claim pairs - claims from source {str(source_name)}: {round((number / ac_pairs_present_yes * 100), 2)} %\\n\")"
   ]
  }
 ],
 "metadata": {
  "kernelspec": {
   "display_name": "Python 3 (ipykernel)",
   "language": "python",
   "name": "python3"
  },
  "language_info": {
   "codemirror_mode": {
    "name": "ipython",
    "version": 3
   },
   "file_extension": ".py",
   "mimetype": "text/x-python",
   "name": "python",
   "nbconvert_exporter": "python",
   "pygments_lexer": "ipython3",
   "version": "3.9.5"
  }
 },
 "nbformat": 4,
 "nbformat_minor": 4
}
