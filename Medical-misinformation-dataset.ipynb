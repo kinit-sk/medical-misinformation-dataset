{
 "cells": [
  {
   "cell_type": "markdown",
   "metadata": {},
   "source": [
    "# Medical Misinformation Dataset"
   ]
  },
  {
   "cell_type": "markdown",
   "metadata": {},
   "source": [
    "In order to create a medical misinformation dataset of news articles/blogs and claims debunked by means of fact-checking articles (and to continuously obtain new data), we used our research platform MonAnt (Srba et al., Monant: universal and extensible platform for monitoring, detection and mitigation of antisocial behaviour. In: Workshop on Reducing Online Misinformation Exposure–ROME, 2019). The MonAnt platform provides so called data providers to extract news articles/blogs from news/blog sites as well as fact-checking articles from fact-checking sites. General parsers (from RSS feeds, Wordpress sites, Google Fact Check Tool, etc.) as well as custom crawler and parsers were implemented (e.g., for fact checking site Snopes.com). All data is stored in the unified format in a central data storage.\n",
    "\n",
    "The guide providing instructions how to read/write data from Monant platform is available at: https://kinit.sk/research/medical-misinformation-dataset\n",
    "\n",
    "API documentation is available at: https://api.monant.kinit.sk/apidocs"
   ]
  },
  {
   "cell_type": "markdown",
   "metadata": {},
   "source": [
    "## Credentials"
   ]
  },
  {
   "cell_type": "markdown",
   "metadata": {},
   "source": [
    "Currently, the access to dataset can be provided by sending a request to ivan.srba@kinit.sk."
   ]
  },
  {
   "cell_type": "markdown",
   "metadata": {},
   "source": [
    "Set to your credentials"
   ]
  },
  {
   "cell_type": "code",
   "execution_count": null,
   "metadata": {},
   "outputs": [],
   "source": [
    "username_my = 'username'\n",
    "password_my = 'password'"
   ]
  },
  {
   "cell_type": "markdown",
   "metadata": {},
   "source": [
    "Set if a specific time range of the data is needed (set time_freeze_on to value of True) and the time range (from, to) in the format of YYYY-MM-DD"
   ]
  },
  {
   "cell_type": "markdown",
   "metadata": {},
   "source": [
    "In order to make the analysis replicable, it uses a ”freeze time” (currently set to August 4, 2021).  A sa result, only those data that were present in the MonAnt platform up to this date are considered."
   ]
  },
  {
   "cell_type": "code",
   "execution_count": 2,
   "metadata": {},
   "outputs": [],
   "source": [
    "time_freeze_on = True\n",
    "time_freeze_from = '1990-01-01'\n",
    "time_freeze_to = '2021-08-04'"
   ]
  },
  {
   "cell_type": "markdown",
   "metadata": {},
   "source": [
    "## Initialization"
   ]
  },
  {
   "cell_type": "code",
   "execution_count": 3,
   "metadata": {},
   "outputs": [],
   "source": [
    "%matplotlib inline\n",
    "\n",
    "import re\n",
    "import json\n",
    "import pandas as pd\n",
    "import numpy as np\n",
    "import matplotlib.pyplot as plt"
   ]
  },
  {
   "cell_type": "markdown",
   "metadata": {},
   "source": [
    "Set API base URL"
   ]
  },
  {
   "cell_type": "code",
   "execution_count": 4,
   "metadata": {},
   "outputs": [],
   "source": [
    "API_URL = 'https://api.monant.kinit.sk/'"
   ]
  },
  {
   "cell_type": "markdown",
   "metadata": {},
   "source": [
    "Set version of API"
   ]
  },
  {
   "cell_type": "code",
   "execution_count": 5,
   "metadata": {},
   "outputs": [],
   "source": [
    "API_URL_v = 'v1/'"
   ]
  },
  {
   "cell_type": "markdown",
   "metadata": {},
   "source": [
    "## API"
   ]
  },
  {
   "cell_type": "code",
   "execution_count": 6,
   "metadata": {},
   "outputs": [],
   "source": [
    "import requests"
   ]
  },
  {
   "cell_type": "markdown",
   "metadata": {},
   "source": [
    "### Get access token"
   ]
  },
  {
   "cell_type": "code",
   "execution_count": 7,
   "metadata": {},
   "outputs": [],
   "source": [
    "def get_access_token():\n",
    "    \"\"\"\n",
    "    Get access token\n",
    "    \"\"\"\n",
    "    pload = {'username': username_my, 'password': password_my}\n",
    "    r = requests.post(API_URL + 'auth', json = pload)\n",
    "    access_token = r.json()['access_token']\n",
    "    \n",
    "    return(access_token)"
   ]
  },
  {
   "cell_type": "markdown",
   "metadata": {},
   "source": [
    "### Get data functions"
   ]
  },
  {
   "cell_type": "code",
   "execution_count": 8,
   "metadata": {},
   "outputs": [],
   "source": [
    "api_batch_size = 100"
   ]
  },
  {
   "cell_type": "code",
   "execution_count": 9,
   "metadata": {},
   "outputs": [],
   "source": [
    "def get_data(request_URL, request_params):\n",
    "    \"\"\"\n",
    "    Get data by get\n",
    "    \"\"\"\n",
    "    if time_freeze_on:\n",
    "        if request_URL in ['articles', 'fact-checking-articles', 'discussions', 'discussion-posts']:\n",
    "            request_params['from'] = time_freeze_from\n",
    "            request_params['to'] = time_freeze_to\n",
    "            \n",
    "        if request_URL in ['claims', 'sources', 'relation-annotations', 'relation-annotations']:\n",
    "            request_params['created_from'] = time_freeze_from\n",
    "            request_params['created_to'] = time_freeze_to\n",
    "    \n",
    "    return(requests.get(\n",
    "            API_URL + API_URL_v + request_URL,\n",
    "            params=request_params,\n",
    "            headers={\"Content-Type\": \"application/json\", \"Authorization\": f\"JWT {access_token}\"}\n",
    "        ))"
   ]
  },
  {
   "cell_type": "code",
   "execution_count": 10,
   "metadata": {},
   "outputs": [],
   "source": [
    "def get_entity_df(entity, request_params):\n",
    "    \"\"\"\n",
    "    Get data by get to dataframe\n",
    "    \"\"\"\n",
    "    request_params['size'] = 1\n",
    "    pages_n = (get_data(entity, request_params).json()['pagination']['pages'] // api_batch_size) + 1\n",
    "    entity_key = entity_to_entity_key(entity)\n",
    "    data_json = []\n",
    "    request_params['size'] = api_batch_size\n",
    "    \n",
    "    for page in range(1, pages_n + 1):\n",
    "        request_params['page'] = page\n",
    "        data_json_batch = json.loads(json.dumps(get_data(entity, request_params).json()[entity_key]))\n",
    "        data_json = data_json + data_json_batch\n",
    "\n",
    "    df_batch = pd.json_normalize(data_json)\n",
    "    return df_batch"
   ]
  },
  {
   "cell_type": "code",
   "execution_count": 11,
   "metadata": {},
   "outputs": [],
   "source": [
    "def entity_to_entity_key(entity):\n",
    "    entity_key = re.sub('-', '_', entity)\n",
    "    return entity_key"
   ]
  },
  {
   "cell_type": "markdown",
   "metadata": {},
   "source": [
    "### Init"
   ]
  },
  {
   "cell_type": "markdown",
   "metadata": {},
   "source": [
    "Obtain a Monant API access token with a lifespan of several hours. Subsequently, a new one must be requested."
   ]
  },
  {
   "cell_type": "code",
   "execution_count": 12,
   "metadata": {},
   "outputs": [],
   "source": [
    "access_token = get_access_token()"
   ]
  },
  {
   "cell_type": "markdown",
   "metadata": {},
   "source": [
    "# 3.2 Descriptive Analysis of Raw Data"
   ]
  },
  {
   "cell_type": "markdown",
   "metadata": {},
   "source": [
    "MonAnt had collected in total:"
   ]
  },
  {
   "cell_type": "code",
   "execution_count": 47,
   "metadata": {
    "scrolled": true
   },
   "outputs": [
    {
     "name": "stdout",
     "output_type": "stream",
     "text": [
      "Number of articles: 827781\n",
      "Number of sources: 241\n",
      "Average number of articles per source: 3434.78\n",
      "Number of fact-checking-articles: 7984\n",
      "Number of claims: 8866\n",
      "Number of relation-annotations: 684942\n",
      "Number of discussion-posts: 752081\n",
      "Number of discussions: 45108\n"
     ]
    }
   ],
   "source": [
    "n_articles = 0\n",
    "\n",
    "for entity in ['articles', 'sources', 'fact-checking-articles', 'claims', 'relation-annotations', 'discussion-posts',  'discussions']:\n",
    "    print('Number of ' + str(entity) + ': ' + str(get_data(entity, {'size': 1}).json()['pagination']['total']))\n",
    "    \n",
    "    if entity == 'sources':\n",
    "        print('Average number of articles per source: ' + str(round(n_articles / get_data(entity, {'size': 1}).json()['pagination']['total'], 2)))\n",
    "    if entity == 'articles':\n",
    "        n_articles = get_data(entity, {'size': 1}).json()['pagination']['total']"
   ]
  },
  {
   "cell_type": "code",
   "execution_count": 14,
   "metadata": {},
   "outputs": [
    {
     "name": "stdout",
     "output_type": "stream",
     "text": [
      "Number of reliable sources: 22\n",
      "Number of unreliable sources: 66\n",
      "Number of unknown sources: 153\n"
     ]
    }
   ],
   "source": [
    "entity = 'sources'\n",
    "for reliability in ['reliable', 'unreliable', 'unknown']:\n",
    "    print('Number of ' + str(reliability) + ' ' + str(entity) + ': ' + str(get_data(entity, {'size': 1, 'veracity': reliability}).json()['pagination']['total']))"
   ]
  },
  {
   "cell_type": "code",
   "execution_count": 15,
   "metadata": {},
   "outputs": [],
   "source": [
    "df_fact_checking_articles = get_entity_df('fact-checking-articles', dict())"
   ]
  },
  {
   "cell_type": "code",
   "execution_count": 16,
   "metadata": {},
   "outputs": [
    {
     "name": "stdout",
     "output_type": "stream",
     "text": [
      "Number of fact checking articles sources: 17\n",
      "\n",
      "\n",
      "Number of fact checking articles from source factcheck.org: 2454\n",
      "Number of fact checking articles from source metafact.io: 745\n",
      "Number of fact checking articles from source fullfact.org: 3503\n",
      "Number of fact checking articles from source healthfeedback.org: 354\n",
      "Number of fact checking articles from source snopes.com: 714\n",
      "Number of fact checking articles from source politifact.com: 109\n",
      "Number of fact checking articles from source cbsnews.com: 7\n",
      "Number of fact checking articles from source washingtonpost.com: 33\n",
      "Number of fact checking articles from source reporterslab.org: 5\n",
      "Number of fact checking articles from source afp.com: 2\n",
      "Number of fact checking articles from source sciencefeedback.co: 49\n",
      "Number of fact checking articles from source polygraph.info: 1\n",
      "Number of fact checking articles from source nytimes.com: 3\n",
      "Number of fact checking articles from source leadstories.com: 2\n",
      "Number of fact checking articles from source newswise.com: 1\n",
      "Number of fact checking articles from source bbc.com: 1\n",
      "Number of fact checking articles from source bbc.co.uk: 1\n"
     ]
    }
   ],
   "source": [
    "print('Number of fact checking articles sources: ' + str(len(df_fact_checking_articles.groupby(['source_id']))))\n",
    "print('\\n')\n",
    "\n",
    "for source in df_fact_checking_articles['source_id'].unique():    \n",
    "    source_json = get_data('sources', {'ids': source}).json()['sources'][0]\n",
    "    source_name = source_json.get('name', '')\n",
    "    source_veracity = source_json.get('veracity')\n",
    "    source_n_articles = len(df_fact_checking_articles[df_fact_checking_articles.source_id == source])\n",
    "    \n",
    "    print('Number of fact checking articles from source ' + str(source_name) + ': ' + str(source_n_articles))"
   ]
  },
  {
   "cell_type": "markdown",
   "metadata": {},
   "source": [
    "## Medical articles"
   ]
  },
  {
   "cell_type": "code",
   "execution_count": 17,
   "metadata": {},
   "outputs": [
    {
     "name": "stdout",
     "output_type": "stream",
     "text": [
      "Number of medical articles: 330284\n",
      "Number of medical discussion-posts: 741724\n"
     ]
    }
   ],
   "source": [
    "for entity in ['articles', 'discussion-posts']:\n",
    "    print('Number of medical ' + str(entity) + ': ' + str(get_data(entity, {'size': 1, 'monitoring_tags': 'medical'}).json()['pagination']['total']))"
   ]
  },
  {
   "cell_type": "code",
   "execution_count": 18,
   "metadata": {},
   "outputs": [],
   "source": [
    "entity = 'articles'"
   ]
  },
  {
   "cell_type": "code",
   "execution_count": 19,
   "metadata": {},
   "outputs": [
    {
     "name": "stdout",
     "output_type": "stream",
     "text": [
      "Number of english medical articles: 292855\n",
      "Number of slovak medical articles: 16809\n",
      "Number of czech medical articles: 20620\n"
     ]
    }
   ],
   "source": [
    "for language in ['english', 'slovak', 'czech']:\n",
    "    print('Number of ' + str(language) + ' medical ' + str(entity) + ': ' + str(get_data(entity, {'size': 1, 'monitoring_tags': ['medical', language]}).json()['pagination']['total']))"
   ]
  },
  {
   "cell_type": "markdown",
   "metadata": {},
   "source": [
    "## English medical articles / claims"
   ]
  },
  {
   "cell_type": "markdown",
   "metadata": {},
   "source": [
    "In the following descriptive analysis, we focus specifically on medical English news articles and claims."
   ]
  },
  {
   "cell_type": "code",
   "execution_count": 20,
   "metadata": {},
   "outputs": [],
   "source": [
    "monitoring_tags = ['medical', 'english']"
   ]
  },
  {
   "cell_type": "markdown",
   "metadata": {},
   "source": [
    "### Sources"
   ]
  },
  {
   "cell_type": "code",
   "execution_count": 21,
   "metadata": {},
   "outputs": [],
   "source": [
    "entity = 'sources'\n",
    "df_sources = get_entity_df(entity, dict())"
   ]
  },
  {
   "cell_type": "code",
   "execution_count": 22,
   "metadata": {},
   "outputs": [],
   "source": [
    "sources_id_en_medical = []\n",
    "\n",
    "for source in df_sources.iterrows():\n",
    "    if (get_data('articles', {'size': 1, 'monitoring_tags': monitoring_tags, 'sources': source[1]['id']}).json()['pagination']['total']) > 0:\n",
    "        sources_id_en_medical.append(source[1]['id'])"
   ]
  },
  {
   "cell_type": "code",
   "execution_count": 23,
   "metadata": {},
   "outputs": [
    {
     "name": "stdout",
     "output_type": "stream",
     "text": [
      "Number of medical articles sources: 196\n"
     ]
    }
   ],
   "source": [
    "print('Number of medical articles ' + str(entity) + ': ' + str(len(sources_id_en_medical)))"
   ]
  },
  {
   "cell_type": "code",
   "execution_count": 24,
   "metadata": {},
   "outputs": [
    {
     "name": "stdout",
     "output_type": "stream",
     "text": [
      "Number of reliable sources: 22\n",
      "Number of unreliable sources: 47\n",
      "Number of unknown sources: 127\n"
     ]
    }
   ],
   "source": [
    "for reliability in ['reliable', 'unreliable', 'unknown']:\n",
    "    print('Number of ' + str(reliability) + ' ' + str(entity) + ': ' + str(get_data(entity, {'size': 1, 'veracity': reliability, 'ids': sources_id_en_medical}).json()['pagination']['total']))"
   ]
  },
  {
   "cell_type": "code",
   "execution_count": 25,
   "metadata": {},
   "outputs": [],
   "source": [
    "sources_id_en_medical_reliable = df_sources.loc[(df_sources['id'].isin(sources_id_en_medical)) & (df_sources['veracity'] == 'reliable')].id\n",
    "sources_id_en_medical_unknown = df_sources.loc[(df_sources['id'].isin(sources_id_en_medical)) & (df_sources['veracity'] == 'unknown')].id\n",
    "sources_id_en_medical_unreliable = df_sources.loc[(df_sources['id'].isin(sources_id_en_medical)) & (df_sources['veracity'] == 'unreliable')].id"
   ]
  },
  {
   "cell_type": "markdown",
   "metadata": {},
   "source": [
    "### Articles"
   ]
  },
  {
   "cell_type": "code",
   "execution_count": 26,
   "metadata": {},
   "outputs": [],
   "source": [
    "import matplotlib\n",
    "\n",
    "day_start = '-01-01'\n",
    "day_end = '-12-31'\n",
    "year_start = 1995\n",
    "year_end = int(time_freeze_to.split('-')[0])\n",
    "request_URL = 'articles'\n",
    "\n",
    "years = []\n",
    "n_articles_year = []\n",
    "\n",
    "for year in range(year_start, year_end + 1, 1):\n",
    "    date_start = str(year) + day_start\n",
    "    if year == year_end:\n",
    "        date_end = time_freeze_to\n",
    "    else:\n",
    "        date_end = str(year) + day_end\n",
    "    \n",
    "    years.append(year)\n",
    "    n_articles_year.append(get_data('articles', {'size': 1, 'monitoring_tags': monitoring_tags, 'published_at_from': date_start, 'published_at_to': date_end}).json()['pagination']['total'])"
   ]
  },
  {
   "cell_type": "code",
   "execution_count": 27,
   "metadata": {},
   "outputs": [
    {
     "name": "stdout",
     "output_type": "stream",
     "text": [
      "Number of English medical articles published in years 1995-(freeze time year):\n"
     ]
    },
    {
     "data": {
      "text/plain": [
       "<BarContainer object of 27 artists>"
      ]
     },
     "execution_count": 27,
     "metadata": {},
     "output_type": "execute_result"
    },
    {
     "data": {
      "image/png": "[encoded data removed]",
      "text/plain": [
       "<Figure size 504x360 with 1 Axes>"
      ]
     },
     "metadata": {
      "needs_background": "light"
     },
     "output_type": "display_data"
    }
   ],
   "source": [
    "print('Number of English medical articles published in years 1995-(freeze time year):')\n",
    "plt.rcParams['figure.figsize'] = 7, 5\n",
    "font = {'size': 15} \n",
    "f = plt.figure()\n",
    "plt.xlabel('Year', fontsize=22)\n",
    "plt.ylabel('Number of medical articles', fontsize=22)\n",
    "matplotlib.rc('font', **font)\n",
    "plt.bar(years, n_articles_year)"
   ]
  },
  {
   "cell_type": "code",
   "execution_count": 28,
   "metadata": {},
   "outputs": [
    {
     "name": "stdout",
     "output_type": "stream",
     "text": [
      "Number of medical English articles based on reliability of its source:\n",
      "Number of reliable articles: 110688\n",
      "Number of unknown articles: 12381\n",
      "Number of unreliable articles: 169786\n"
     ]
    }
   ],
   "source": [
    "entity = 'articles'\n",
    "\n",
    "print('Number of medical English articles based on reliability of its source:')\n",
    "for reliability,sources_id_en_medical_reliability in zip(['reliable', 'unknown', 'unreliable'], [sources_id_en_medical_reliable, sources_id_en_medical_unknown, sources_id_en_medical_unreliable]):\n",
    "    sources_articles_n = 0\n",
    "    for source_id in sources_id_en_medical_reliability:\n",
    "        source_articles_n = get_data(entity, {'size': 1, 'sources': source_id}).json()['pagination']['total']\n",
    "        sources_articles_n = sources_articles_n + source_articles_n\n",
    "        \n",
    "    print('Number of ' + str(reliability) + ' ' + str(entity) + ': ' + str(sources_articles_n))"
   ]
  },
  {
   "cell_type": "markdown",
   "metadata": {},
   "source": [
    "### Claims"
   ]
  },
  {
   "cell_type": "code",
   "execution_count": 29,
   "metadata": {},
   "outputs": [
    {
     "name": "stdout",
     "output_type": "stream",
     "text": [
      "Number of all claims: 8866\n",
      "Number of medical claims: 3052\n"
     ]
    }
   ],
   "source": [
    "entity = 'claims'\n",
    "print('Number of all ' + str(entity) + ': ' + str(get_data(entity, {'size': 1}).json()['pagination']['total']))\n",
    "\n",
    "claims_medical_n = get_data(entity, {'size': 100, 'category': ['medical']}).json()['pagination']['total']\n",
    "print('Number of medical ' + str(entity) + ': ' + str(claims_medical_n))"
   ]
  },
  {
   "cell_type": "code",
   "execution_count": 30,
   "metadata": {},
   "outputs": [],
   "source": [
    "df_fca_medical_bool = df_fact_checking_articles.category.apply(lambda x: 'medical' in x)\n",
    "df_fact_checking_articles_medical = df_fact_checking_articles[df_fca_medical_bool]"
   ]
  },
  {
   "cell_type": "code",
   "execution_count": 31,
   "metadata": {},
   "outputs": [
    {
     "name": "stdout",
     "output_type": "stream",
     "text": [
      "Number of medical fact checking articles sources: 7\n",
      "\n",
      "\n",
      "Number of medical fact checking articles from source factcheck.org: 26\n",
      "Number of medical fact checking articles from source metafact.io: 505\n",
      "Number of medical fact checking articles from source healthfeedback.org: 354\n",
      "Number of medical fact checking articles from source fullfact.org: 754\n",
      "Number of medical fact checking articles from source snopes.com: 714\n",
      "Number of medical fact checking articles from source sciencefeedback.co: 3\n",
      "Number of medical fact checking articles from source politifact.com: 1\n"
     ]
    }
   ],
   "source": [
    "print('Number of medical fact checking articles sources: ' + str(len(df_fact_checking_articles_medical.groupby(['source_id']))))\n",
    "print('\\n')\n",
    "\n",
    "for source in df_fact_checking_articles_medical['source_id'].unique():    \n",
    "    source_json = get_data('sources', {'ids': source}).json()['sources'][0]\n",
    "    source_name = source_json.get('name', '')\n",
    "    source_veracity = source_json.get('veracity')\n",
    "    source_n_articles = len(df_fact_checking_articles_medical[df_fact_checking_articles_medical.source_id == source])\n",
    "    \n",
    "    print('Number of medical fact checking articles from source ' + str(source_name) + ': ' + str(source_n_articles))"
   ]
  },
  {
   "cell_type": "code",
   "execution_count": 32,
   "metadata": {},
   "outputs": [
    {
     "name": "stdout",
     "output_type": "stream",
     "text": [
      "Number of medical claims: 3052\n",
      "\n",
      "\n",
      "Number of medical false claims: 875\n",
      "Percentage of medical false claims: 28.67 %\n",
      "\n",
      "Number of medical mostly-false claims: 58\n",
      "Percentage of medical mostly-false claims: 1.9 %\n",
      "\n",
      "Number of medical mixture claims: 95\n",
      "Percentage of medical mixture claims: 3.11 %\n",
      "\n",
      "Number of medical mostly-true claims: 39\n",
      "Percentage of medical mostly-true claims: 1.28 %\n",
      "\n",
      "Number of medical true claims: 245\n",
      "Percentage of medical true claims: 8.03 %\n",
      "\n",
      "Number of medical unknown claims: 1740\n",
      "Percentage of medical unknown claims: 57.01 %\n",
      "\n"
     ]
    }
   ],
   "source": [
    "ratings = []\n",
    "n_claims_ratings = []\n",
    "ratings_names_dict = {\n",
    "    'null': 'Unknown',\n",
    "    'unknown': 'Unknown',\n",
    "    'false': 'False',\n",
    "    'mostly-false': 'Mostly\\nfalse',\n",
    "    'mixture': 'Mixture',\n",
    "    'mostly-true': 'Mostly\\ntrue',\n",
    "    'true': 'True'\n",
    "}\n",
    "\n",
    "entity = 'claims'\n",
    "print('Number of medical ' + str(entity) + ': ' + str(get_data(entity, {'size': 1, 'category': ['medical']}).json()['pagination']['total']))\n",
    "print('\\n')\n",
    "\n",
    "claims_medical_n_rating_unknown = claims_medical_n\n",
    "for rating in ['false', 'mostly-false', 'mixture', 'mostly-true', 'true']:\n",
    "    claims_medical_n_rating = get_data(entity, {'size': 1, 'category': ['medical'], 'rating': rating}).json()['pagination']['total']\n",
    "    print('Number of medical ' + str(rating) + ' ' + str(entity) + ': ' + str(claims_medical_n_rating))\n",
    "    print(f\"Percentage of medical {str(rating)} {str(entity)}: {round((claims_medical_n_rating / claims_medical_n * 100), 2)} %\\n\")\n",
    "    claims_medical_n_rating_unknown = claims_medical_n_rating_unknown - claims_medical_n_rating\n",
    "    \n",
    "    ratings.append(ratings_names_dict[rating])\n",
    "    n_claims_ratings.append(claims_medical_n_rating)\n",
    "    \n",
    "    \n",
    "rating = 'unknown'\n",
    "print('Number of medical ' + str(rating) + ' ' + str(entity) + ': ' + str(claims_medical_n_rating_unknown))\n",
    "print(f\"Percentage of medical {str(rating)} {str(entity)}: {round((claims_medical_n_rating_unknown / claims_medical_n * 100), 2)} %\\n\")\n",
    "ratings.append(rating)\n",
    "n_claims_ratings.append(claims_medical_n_rating_unknown)"
   ]
  },
  {
   "cell_type": "code",
   "execution_count": 33,
   "metadata": {},
   "outputs": [
    {
     "name": "stdout",
     "output_type": "stream",
     "text": [
      "Number of medical claims in our dataset per claim rating:\n"
     ]
    },
    {
     "data": {
      "text/plain": [
       "<BarContainer object of 6 artists>"
      ]
     },
     "execution_count": 33,
     "metadata": {},
     "output_type": "execute_result"
    },
    {
     "data": {
      "image/png": "[encoded data removed]",
      "text/plain": [
       "<Figure size 504x360 with 1 Axes>"
      ]
     },
     "metadata": {
      "needs_background": "light"
     },
     "output_type": "display_data"
    }
   ],
   "source": [
    "print('Number of medical claims in our dataset per claim rating:')\n",
    "plt.rcParams['figure.figsize'] = 7, 5\n",
    "font = {'size': 15} \n",
    "f = plt.figure()\n",
    "plt.xlabel('Rating', fontsize=22)\n",
    "plt.ylabel('Number of claims', fontsize=22)\n",
    "matplotlib.rc('font', **font)\n",
    "plt.xticks(rotation=45)\n",
    "plt.bar(ratings, n_claims_ratings)"
   ]
  },
  {
   "cell_type": "markdown",
   "metadata": {},
   "source": [
    "# 5.4.  Descriptive Analysis of Annotations Predicted by the Proposed Method"
   ]
  },
  {
   "cell_type": "markdown",
   "metadata": {},
   "source": [
    "Besides raw data and manual labels, the introduced dataset also contains the predicted annotations (for claims presence, article stance and article-claim pair veracities)."
   ]
  },
  {
   "cell_type": "code",
   "execution_count": 35,
   "metadata": {},
   "outputs": [],
   "source": [
    "entity = 'entity-annotations'\n",
    "df_entity_annotations = get_entity_df(entity, {'entity_type': 'articles', 'method': 'Article veracity aggregation method'})"
   ]
  },
  {
   "cell_type": "code",
   "execution_count": 36,
   "metadata": {},
   "outputs": [],
   "source": [
    "df_entity_annotations_vclaims = df_entity_annotations[df_entity_annotations['value.claims'].map(lambda d: len(d)) > 0]"
   ]
  },
  {
   "cell_type": "code",
   "execution_count": 37,
   "metadata": {},
   "outputs": [],
   "source": [
    "sources_reliable_ids = df_sources[df_sources['veracity'] == 'reliable']['id'].tolist()\n",
    "sources_unreliable_ids = df_sources[df_sources['veracity'] == 'unreliable']['id'].tolist()\n",
    "\n",
    "articles_reliable_ids = list()\n",
    "articles_unreliable_ids = list()\n",
    "\n",
    "for source_id in sources_reliable_ids:\n",
    "    article_ids = [0]\n",
    "    while article_ids:\n",
    "        article_ids = get_data('articles', {'id_only': 'yes', 'count': 1000, 'last_id': article_ids[-1], 'sources': source_id}).json()['ids']\n",
    "        articles_reliable_ids.extend(article_ids)\n",
    "    \n",
    "for source_id in sources_unreliable_ids:\n",
    "    article_ids = [0]\n",
    "    while article_ids:\n",
    "        article_ids = get_data('articles', {'id_only': 'yes', 'count': 1000, 'last_id': article_ids[-1], 'sources': source_id}).json()['ids']\n",
    "        articles_unreliable_ids.extend(article_ids)"
   ]
  },
  {
   "cell_type": "code",
   "execution_count": 38,
   "metadata": {},
   "outputs": [
    {
     "name": "stdout",
     "output_type": "stream",
     "text": [
      "Number of not present article-claim mappings: 293395\n",
      "Number of present article-claim mappings: 44253\n",
      "\n",
      "\n",
      "Number of unique mapped articles: 31683\n",
      "Percentage of unique mapped articles : 10.82 %\n",
      "\n",
      "\n",
      "\n",
      "Number of unique mapped claims: 1097\n",
      "Percentage of unique mapped claims: 35.94 %\n",
      "\n",
      "\n",
      "\n",
      "Number of present mapped claims with stance: 44253\n",
      "Number of present mapped claims with contradicting stance: 7281\n",
      "Percentage of present mapped claims with contradicting stance: 16.45 %\n",
      "\n",
      "Number of present mapped claims with neutral stance: 1698\n",
      "Percentage of present mapped claims with neutral stance: 3.84 %\n",
      "\n",
      "Number of present mapped claims with supporting stance: 35274\n",
      "Percentage of present mapped claims with supporting stance: 79.71 %\n",
      "\n",
      "\n",
      "\n",
      "Number of present mapped claims with partial veracity: 44253\n",
      "Number of present mapped claims with true stance: 7827\n",
      "Percentage of present mapped claims with true stance: 17.69 %\n",
      "\n",
      "Number of present mapped claims with unknown stance: 26972\n",
      "Percentage of present mapped claims with unknown stance: 60.95 %\n",
      "\n",
      "Number of present mapped claims with mostly-false stance: 43\n",
      "Percentage of present mapped claims with mostly-false stance: 0.1 %\n",
      "\n",
      "Number of present mapped claims with false stance: 9325\n",
      "Percentage of present mapped claims with false stance: 21.07 %\n",
      "\n",
      "Number of present mapped claims with mostly-true stance: 36\n",
      "Percentage of present mapped claims with mostly-true stance: 0.08 %\n",
      "\n",
      "Number of present mapped claims with mixture stance: 50\n",
      "Percentage of present mapped claims with mixture stance: 0.11 %\n",
      "\n",
      "\n",
      "\n",
      "Number of mapped articles witch veracity consistancy status inconsistent: 798\n",
      "Percentage of mapped articles witch veracity consistancy status inconsistent: 2.52 %\n",
      "\n",
      "Number of mapped articles witch veracity consistancy status false: 7156\n",
      "Percentage of mapped articles witch veracity consistancy status false: 22.59 %\n",
      "\n",
      "Number of mapped articles witch veracity consistancy status true: 6615\n",
      "Percentage of mapped articles witch veracity consistancy status true: 20.88 %\n",
      "\n",
      "\n",
      "\n",
      "Number of present claim article pairs - unreliable sources: 30505\n",
      "Percentage of present claim article pairs - unreliable sources: 68.93 %\n",
      "\n",
      "Number of present claim article pairs - false veracity from unreliable source: 6981\n",
      "Percentage of present claim article pairs from unreliable sources - false veracity from unreliable source: 22.88 %\n",
      "\n",
      "Number of present claim article pairs - true veracity from unreliable source: 5279\n",
      "Percentage of present claim article pairs from unreliable sources - true veracity from unreliable source: 17.31 %\n",
      "\n",
      "Number of present claim article pairs - reliable sources: 10851\n",
      "Percentage of present claim article pairs - reliable sources: 24.52 %\n",
      "\n",
      "Number of present claim article pairs - false veracity from reliable source: 1953\n",
      "Percentage of present claim article pairs from reliable sources - false veracity from reliable source: 18.0 %\n",
      "\n",
      "Number of present claim article pairs - true veracity from reliable source: 2121\n",
      "Percentage of present claim article pairs from reliable sources - true veracity from reliable source: 19.55 %\n",
      "\n",
      "Number of present claim article pairs - unknown sources: 2897\n",
      "Percentage of present claim article pairs - unknown sources: 6.55 %\n",
      "\n",
      "Number of present claim article pairs - false veracity from unknown source: 434\n",
      "Percentage of present claim article pairs from unknown sources - false veracity from unknown source: 14.98 %\n",
      "\n",
      "Number of present claim article pairs - true veracity from unknown source: 463\n",
      "Percentage of present claim article pairs from unknown sources - true veracity from unknown source: 15.98 %\n",
      "\n"
     ]
    }
   ],
   "source": [
    "ac_pairs_present_yes = 0\n",
    "ac_pairs_present_no = 0\n",
    "\n",
    "claims_present_id = set()\n",
    "claims_present_not_id = set()\n",
    "\n",
    "veracity_set = {'false', 'mixture', 'mostly-false', 'mostly-true', 'true', 'unknown'}\n",
    "claims_pveracity_n = dict()\n",
    "for veracity in veracity_set:\n",
    "    claims_pveracity_n[veracity] = 0\n",
    "    \n",
    "stance_set = {'contradicting', 'neutral', 'supporting'}\n",
    "claims_stance_n = dict()\n",
    "for stance in stance_set:\n",
    "    claims_stance_n[stance] = 0\n",
    "    \n",
    "veracity_consistency_set = {'true', 'false', 'inconsistent'}\n",
    "veracity_consistency_n = dict()\n",
    "for veracity in veracity_consistency_set:\n",
    "    veracity_consistency_n[veracity] = 0\n",
    "    \n",
    "veracity_binary_set = {' true', ' false', ''}\n",
    "reliability_set = {'unreliable', 'reliable', 'unknown'}\n",
    "veracity_reliability_n = dict()\n",
    "\n",
    "for reliability in reliability_set:\n",
    "    for veracity in veracity_binary_set:\n",
    "        veracity_reliability_n[reliability + veracity] = 0\n",
    "\n",
    "\n",
    "for index, row in df_entity_annotations_vclaims.iterrows():\n",
    "    \n",
    "    if int(row['entity_id']) in articles_reliable_ids:\n",
    "        source_reliability = 'reliable' \n",
    "    elif int(row['entity_id']) in articles_unreliable_ids:\n",
    "        source_reliability = 'unreliable'\n",
    "    else:\n",
    "        source_reliability = 'unknown'\n",
    "    \n",
    "    article_veracity_init = True\n",
    "    veracity_consistent = True\n",
    "    \n",
    "    for claim in row['value.claims']:\n",
    "        \n",
    "        if claim['presence'] == 'yes':\n",
    "            ac_pairs_present_yes = ac_pairs_present_yes + 1\n",
    "            \n",
    "            claims_present_id.add(claim['claim_id'])\n",
    "            \n",
    "            if claim['stance'] in claims_stance_n:\n",
    "                claims_stance_n[claim['stance']] = claims_stance_n[claim['stance']] + 1\n",
    "            else:\n",
    "                claims_stance_n['neutral'] = claims_stance_n['neutral'] + 1\n",
    "            \n",
    "            claims_pveracity_n[claim['partial_veracity']] = claims_pveracity_n[claim['partial_veracity']] + 1\n",
    "            veracity_reliability_n[source_reliability] = veracity_reliability_n[source_reliability] + 1\n",
    "            \n",
    "            if (claim['partial_veracity'] in {'false', 'mostly-false', 'mostly-true', 'true'}):\n",
    "                if claim['partial_veracity'] in {'mostly-true', 'true'}:\n",
    "                    claim_veracity = 'true'\n",
    "                    veracity_reliability_n[source_reliability + ' ' + claim_veracity] = veracity_reliability_n[source_reliability +' '+ claim_veracity] + 1\n",
    "                if claim['partial_veracity'] in {'false', 'mostly-false'}:\n",
    "                    claim_veracity = 'false'\n",
    "                    veracity_reliability_n[source_reliability + ' ' + claim_veracity] = veracity_reliability_n[source_reliability +' '+ claim_veracity] + 1\n",
    "                    \n",
    "                if article_veracity_init:\n",
    "                    article_veracity = claim_veracity\n",
    "                    article_veracity_init = False\n",
    "                    \n",
    "                if article_veracity != claim_veracity:\n",
    "                    veracity_consistent = False\n",
    "\n",
    "    if article_veracity_init == False:\n",
    "            if veracity_consistent:\n",
    "                veracity_consistency_n[article_veracity] = veracity_consistency_n[article_veracity] + 1\n",
    "            else:\n",
    "                veracity_consistency_n['inconsistent'] = veracity_consistency_n['inconsistent'] + 1\n",
    "\n",
    "ac_pairs_present_all = get_data('relation-annotations', {'size': 1, 'source_entity_type': 'articles', 'method': 'Claim-presence detection method (IR and NN approach)'}).json()['pagination']['total']\n",
    "ac_pairs_present_no = ac_pairs_present_all - ac_pairs_present_yes\n",
    "\n",
    "print('Number of not present article-claim mappings: ' + str(ac_pairs_present_no))\n",
    "print('Number of present article-claim mappings: ' + str(ac_pairs_present_yes))\n",
    "\n",
    "print('\\n')\n",
    "\n",
    "print('Number of unique mapped articles: ' + str(len(df_entity_annotations_vclaims)))\n",
    "print(f\"Percentage of unique mapped articles : {round((len(df_entity_annotations_vclaims) / get_data('articles', {'size': 1, 'monitoring_tags': ['medical', 'english']}).json()['pagination']['total'] * 100), 2)} %\\n\")\n",
    "\n",
    "print('\\n')\n",
    "\n",
    "print('Number of unique mapped claims: ' + str(len(claims_present_id)))\n",
    "print(f\"Percentage of unique mapped claims: {round((len(claims_present_id) / get_data('claims', {'size': 1, 'category': ['medical']}).json()['pagination']['total'] * 100), 2)} %\\n\")\n",
    "\n",
    "print('\\n')\n",
    "\n",
    "print('Number of present mapped claims with stance: ' + str(ac_pairs_present_yes))\n",
    "for stance,number in claims_stance_n.items():\n",
    "    print('Number of present mapped claims with ' + str(stance) + ' stance: ' + str(number))\n",
    "    print(f\"Percentage of present mapped claims with {str(stance)} stance: {round((number / ac_pairs_present_yes * 100), 2)} %\\n\")\n",
    "print('\\n')\n",
    "\n",
    "print('Number of present mapped claims with partial veracity: ' + str(ac_pairs_present_yes))                                                                              \n",
    "for veracity,number in claims_pveracity_n.items():\n",
    "    print('Number of present mapped claims with ' + str(veracity) + ' stance: ' + str(number))\n",
    "    print(f\"Percentage of present mapped claims with {str(veracity)} stance: {round((number / ac_pairs_present_yes * 100), 2)} %\\n\")\n",
    "    \n",
    "print('\\n')\n",
    "                                                                            \n",
    "for veracity,number in veracity_consistency_n.items():\n",
    "    print('Number of mapped articles witch veracity consistancy status ' + str(veracity) + ': ' + str(number))\n",
    "    print(f\"Percentage of mapped articles witch veracity consistancy status {str(veracity)}: {round((number / len(df_entity_annotations_vclaims) * 100), 2)} %\\n\")\n",
    "    \n",
    "print('\\n')\n",
    "       \n",
    "for rating,number in veracity_reliability_n.items():\n",
    "    if rating in ['unreliable', 'reliable', 'unknown']:\n",
    "        print('Number of present claim article pairs - ' + str(rating) + ' sources: ' + str(number))\n",
    "        print(f\"Percentage of present claim article pairs - {str(rating)} sources: {round((number / ac_pairs_present_yes * 100), 2)} %\\n\")\n",
    "    else:\n",
    "        reliability = rating.split()[0]\n",
    "        veracity = rating.split()[1]\n",
    "        print('Number of present claim article pairs - ' + str(veracity) + ' veracity from ' + str(reliability) + ' source: ' + str(number))\n",
    "        print(f\"Percentage of present claim article pairs from {str(reliability)} sources - {str(veracity)} veracity from {str(reliability)} source: {round((number / veracity_reliability_n[reliability] * 100), 2)} %\\n\")"
   ]
  },
  {
   "cell_type": "code",
   "execution_count": 48,
   "metadata": {},
   "outputs": [],
   "source": [
    "claims_source_names = dict()\n",
    "claims_sources_names_set = set()\n",
    "\n",
    "for claim_id in claims_present_id:\n",
    "    fcas = get_data('relation-annotations', {'target_entity_type': 'claims', 'target_entity_id': claim_id, 'source_entity_type': 'fact_checking_articles'}).json()\n",
    "    \n",
    "    if fcas['pagination']['total'] > 0:\n",
    "        fca_id = fcas['relation_annotations'][0]['source_entity_id']\n",
    "        source_name = get_data('fact-checking-articles/' + str(fca_id), {}).json()['source']['name']\n",
    "\n",
    "        claims_source_names[claim_id] = source_name\n",
    "        claims_sources_names_set.add(source_name)\n",
    "    else:\n",
    "        claims_source_names[claim_id] = 'unknown'\n",
    "        claims_sources_names_set.add('unknown')"
   ]
  },
  {
   "cell_type": "code",
   "execution_count": 49,
   "metadata": {},
   "outputs": [],
   "source": [
    "claims_source_names_n = dict()\n",
    "for source_name in claims_sources_names_set:\n",
    "    claims_source_names_n[source_name] = 0\n",
    "claims_source_names_n['Ghenai 2018'] = 0\n",
    "\n",
    "for index, row in df_entity_annotations_vclaims.iterrows():\n",
    "    for claim in row['value.claims']:\n",
    "        if claim['claim_id'] in range(5300, 5431, 1):\n",
    "            source_name = 'Ghenai 2018'\n",
    "        else:\n",
    "            source_name = claims_source_names[claim['claim_id']]\n",
    "        claims_source_names_n[source_name] = claims_source_names_n[source_name] + 1"
   ]
  },
  {
   "cell_type": "code",
   "execution_count": 50,
   "metadata": {},
   "outputs": [
    {
     "name": "stdout",
     "output_type": "stream",
     "text": [
      "Number of present mapped article-claim pairs - claims from source sciencefeedback.co: 6\n",
      "Percentage of present mapped article-claim pairs - claims from source sciencefeedback.co: 0.01 %\n",
      "\n",
      "Number of present mapped article-claim pairs - claims from source fullfact.org: 5858\n",
      "Percentage of present mapped article-claim pairs - claims from source fullfact.org: 13.24 %\n",
      "\n",
      "Number of present mapped article-claim pairs - claims from source unknown: 16\n",
      "Percentage of present mapped article-claim pairs - claims from source unknown: 0.04 %\n",
      "\n",
      "Number of present mapped article-claim pairs - claims from source snopes.com: 617\n",
      "Percentage of present mapped article-claim pairs - claims from source snopes.com: 1.39 %\n",
      "\n",
      "Number of present mapped article-claim pairs - claims from source metafact.io: 32019\n",
      "Percentage of present mapped article-claim pairs - claims from source metafact.io: 72.35 %\n",
      "\n",
      "Number of present mapped article-claim pairs - claims from source healthfeedback.org: 3866\n",
      "Percentage of present mapped article-claim pairs - claims from source healthfeedback.org: 8.74 %\n",
      "\n",
      "Number of present mapped article-claim pairs - claims from source factcheck.org: 2\n",
      "Percentage of present mapped article-claim pairs - claims from source factcheck.org: 0.0 %\n",
      "\n",
      "Number of present mapped article-claim pairs - claims from source Ghenai 2018: 1869\n",
      "Percentage of present mapped article-claim pairs - claims from source Ghenai 2018: 4.22 %\n",
      "\n"
     ]
    }
   ],
   "source": [
    "for source_name,number in claims_source_names_n.items():\n",
    "    print('Number of present mapped article-claim pairs - claims from source '+ str(source_name) + ': ' + str(number))\n",
    "    print(f\"Percentage of present mapped article-claim pairs - claims from source {str(source_name)}: {round((number / ac_pairs_present_yes * 100), 2)} %\\n\")"
   ]
  }
 ],
 "metadata": {
  "kernelspec": {
   "display_name": "Python 3",
   "language": "python",
   "name": "python3"
  },
  "language_info": {
   "codemirror_mode": {
    "name": "ipython",
    "version": 3
   },
   "file_extension": ".py",
   "mimetype": "text/x-python",
   "name": "python",
   "nbconvert_exporter": "python",
   "pygments_lexer": "ipython3",
   "version": "3.8.5"
  }
 },
 "nbformat": 4,
 "nbformat_minor": 4
}
